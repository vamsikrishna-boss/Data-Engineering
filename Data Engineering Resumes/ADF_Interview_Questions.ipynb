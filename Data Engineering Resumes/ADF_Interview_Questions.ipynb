{
  "nbformat": 4,
  "nbformat_minor": 0,
  "metadata": {
    "colab": {
      "provenance": []
    },
    "kernelspec": {
      "name": "python3",
      "display_name": "Python 3"
    },
    "language_info": {
      "name": "python"
    }
  },
  "cells": [
    {
      "cell_type": "code",
      "source": [],
      "metadata": {
        "id": "7_W9C5epCRle"
      },
      "execution_count": null,
      "outputs": []
    },
    {
      "cell_type": "markdown",
      "source": [
        "**2).What is a Schema?**\n",
        "A schema is a logical structure that defines the organization of data in a database. It includes tables, views, indexes, stored procedures, and relationships between objects.\n",
        "\n",
        "\n",
        "# ❄️ Snowflake Schema in Data Warehousing (Retail Example)\n",
        "\n",
        "## **What is a Snowflake Schema?**\n",
        "A **Snowflake Schema** is a normalized version of the **Star Schema**, where **dimension tables** are further divided into **sub-dimensions**. This reduces data redundancy but increases the complexity of queries.\n",
        "\n",
        "## **Key Characteristics**\n",
        "✔ **Normalization** → Dimension tables are split into multiple related tables.  \n",
        "✔ **Reduced Redundancy** → Common attributes are stored separately.  \n",
        "✔ **More Joins Needed** → Queries may involve multiple joins.  \n",
        "✔ **Optimized Storage** → Less duplicate data, making it storage-efficient.  \n",
        "\n",
        "## **Snowflake Schema Structure**\n",
        "- **Fact Table (Central Table)** → Contains **numerical metrics** like sales, revenue, or quantity sold.  \n",
        "- **Normalized Dimension Tables** → Dimension tables are split into **multiple related tables**.  \n",
        "\n",
        "---\n",
        "\n",
        "## **Retail Example: Snowflake Schema for Sales Data**\n",
        "A retail company wants to analyze sales performance across stores, products, time periods, and customers.\n",
        "\n",
        "### **🗂 Tables in Snowflake Schema**\n",
        "1️⃣ **Fact Table** → `fact_sales` (Stores transactional data)  \n",
        "2️⃣ **Dimension Tables** → `dim_store`, `dim_product`, `dim_customer`, `dim_date`  \n",
        "3️⃣ **Sub-dimensions** (Normalized)  \n",
        "   - `dim_product_category` → Details about product categories  \n",
        "   - `dim_customer_region` → Regional details of customers  \n",
        "\n",
        "### **🔹 Fact Table: `fact_sales`**\n",
        "| sale_id | date_key | store_key | product_key | customer_key | quantity_sold | total_sales_amount |\n",
        "|---------|---------|-----------|-------------|--------------|--------------|------------------|\n",
        "| 1001    | 20240201 | 10        | 500         | 1000         | 2            | 40.00            |\n",
        "| 1002    | 20240202 | 12        | 502         | 1001         | 3            | 60.00            |\n",
        "\n",
        "---\n",
        "\n",
        "### **📌 Dimension Tables (Normalized)**\n",
        "#### **1️⃣ `dim_product`**\n",
        "| product_key | product_name | category_key |\n",
        "|------------|--------------|-------------|\n",
        "| 500        | T-Shirt      | 101         |\n",
        "| 502        | Sneakers     | 102         |\n",
        "\n",
        "#### **2️⃣ `dim_product_category`** (Normalized Product Dimension)\n",
        "| category_key | category_name  |\n",
        "|-------------|---------------|\n",
        "| 101         | Apparel       |\n",
        "| 102         | Footwear      |\n",
        "\n",
        "---\n",
        "\n",
        "#### **3️⃣ `dim_customer`**\n",
        "| customer_key | customer_name | region_key |\n",
        "|-------------|---------------|------------|\n",
        "| 1000        | Alice         | 201        |\n",
        "| 1001        | Bob           | 202        |\n",
        "\n",
        "#### **4️⃣ `dim_customer_region`** (Normalized Customer Dimension)\n",
        "| region_key | region_name |\n",
        "|-----------|------------|\n",
        "| 201       | North      |\n",
        "| 202       | South      |\n",
        "\n",
        "---\n",
        "\n",
        "#### **5️⃣ `dim_store`**\n",
        "| store_key | store_name  | location |\n",
        "|----------|------------|---------|\n",
        "| 10       | Store A     | New York |\n",
        "| 12       | Store B     | Chicago  |\n",
        "\n",
        "#### **6️⃣ `dim_date`**\n",
        "| date_key  | date       | month | year |\n",
        "|----------|-----------|------|------|\n",
        "| 20240201 | 2024-02-01 | 02   | 2024 |\n",
        "| 20240202 | 2024-02-02 | 02   | 2024 |\n",
        "\n",
        "---\n",
        "\n",
        "## **🔍 Differences Between Star Schema & Snowflake Schema**\n",
        "| Feature         | Star Schema 🌟 | Snowflake Schema ❄️ |\n",
        "|----------------|---------------|------------------|\n",
        "| **Normalization** | Denormalized (flat structure) | Normalized (sub-dimensions) |\n",
        "| **Data Redundancy** | More redundancy | Less redundancy |\n",
        "| **Query Performance** | Faster (fewer joins) | Slower (more joins) |\n",
        "| **Storage Efficiency** | Requires more storage | Saves storage |\n",
        "| **Use Case** | Best for simple, fast queries | Best for large-scale, normalized data |\n",
        "\n",
        "---\n",
        "\n",
        "## **✅ When to Use a Snowflake Schema?**\n",
        "- When **storage efficiency** is a priority.  \n",
        "- When **data integrity and consistency** are more important than query speed.  \n",
        "- When there are **large and complex dimension tables**.  \n",
        "- When using **normalized relational databases** (e.g., Snowflake, Redshift).  \n",
        "\n",
        "---\n",
        "\n",
        "## **🚀 Conclusion**\n",
        "The **Snowflake Schema** is a **normalized version** of the **Star Schema**, improving **data integrity and storage efficiency** at the cost of **query complexity**. In a **retail business**, it helps optimize data storage for large-scale **product, customer, and sales data**.\n",
        "\n",
        "Let me know if you need more details! 🎯\n",
        "**"
      ],
      "metadata": {
        "id": "IjPdapqXOC0u"
      }
    },
    {
      "cell_type": "code",
      "source": [],
      "metadata": {
        "id": "1iILuRX0CRhG"
      },
      "execution_count": null,
      "outputs": []
    },
    {
      "cell_type": "markdown",
      "source": [
        "# Star Schema in Data Warehousing (Retail Example)\n",
        "\n",
        "## Overview  \n",
        "A **Star Schema** is a widely used data warehouse schema designed for efficient analytical queries.  \n",
        "It consists of:  \n",
        "- A **central fact table** that stores measurable business data.  \n",
        "- Multiple **dimension tables** that provide descriptive attributes.  \n",
        "- The structure resembles a **star**, with the fact table at the center and dimension tables surrounding it.\n",
        "\n",
        "---\n",
        "\n",
        "## Structure of Star Schema  \n",
        "\n",
        "### 1. **Fact Table (Center of the Schema)**\n",
        "- Stores **quantitative data** (measurable business events).\n",
        "- Contains **foreign keys** linking to dimension tables.\n",
        "- Holds **aggregatable metrics** like revenue, sales count, or profit.\n",
        "\n",
        "### 2. **Dimension Tables (Surrounding Tables)**\n",
        "- Contain **descriptive attributes** about business entities.\n",
        "- Help in filtering, grouping, and drilling down data during analysis.\n",
        "- Each dimension has a **primary key**, which links to the fact table.\n",
        "\n",
        "---\n",
        "\n",
        "## Example: Retail Sales Star Schema\n",
        "\n",
        "### **Business Scenario: Retail Store Sales Analytics**\n",
        "A retail company wants to analyze sales data across different **locations, products, time periods, and customer segments**.\n",
        "\n",
        "### **Tables in the Star Schema:**\n",
        "\n",
        "### 1. **Fact Table: `fact_sales`**\n",
        "This table contains transactional data for each sale.\n",
        "\n",
        "| sale_id | date_key | store_key | product_key | customer_key | quantity_sold | total_sales |\n",
        "|---------|---------|-----------|-------------|--------------|---------------|-------------|\n",
        "| 1001    | 20240101 | 1         | 101         | 501          | 2             | 40.00       |\n",
        "| 1002    | 20240102 | 2         | 102         | 502          | 1             | 25.00       |\n",
        "| 1003    | 20240101 | 3         | 103         | 503          | 5             | 100.00      |\n",
        "\n",
        "---\n",
        "\n",
        "### 2. **Dimension Tables:**\n",
        "Each dimension table provides details for analyzing sales.\n",
        "\n",
        "#### **a. Date Dimension: `dim_date`**\n",
        "| date_key | date       | month | year |\n",
        "|----------|-----------|-------|------|\n",
        "| 20240101 | 01-Jan-24 | Jan   | 2024 |\n",
        "| 20240102 | 02-Jan-24 | Jan   | 2024 |\n",
        "\n",
        "#### **b. Store Dimension: `dim_store`**\n",
        "| store_key | store_name     | city    | state |\n",
        "|-----------|---------------|--------|-------|\n",
        "| 1         | Store A        | New York | NY  |\n",
        "| 2         | Store B        | Los Angeles | CA |\n",
        "| 3         | Store C        | Chicago | IL  |\n",
        "\n",
        "#### **c. Product Dimension: `dim_product`**\n",
        "| product_key | product_name | category  | price |\n",
        "|------------|-------------|-----------|------|\n",
        "| 101        | Laptop      | Electronics | 20.00 |\n",
        "| 102        | Phone       | Electronics | 25.00 |\n",
        "| 103        | Shoes       | Apparel     | 20.00 |\n",
        "\n",
        "#### **d. Customer Dimension: `dim_customer`**\n",
        "| customer_key | customer_name | age | gender | loyalty_status |\n",
        "|-------------|--------------|----|--------|---------------|\n",
        "| 501         | John Doe     | 35 | Male   | Gold          |\n",
        "| 502         | Jane Smith   | 28 | Female | Silver        |\n",
        "| 503         | Alice Brown  | 42 | Female | Platinum      |\n",
        "\n",
        "---\n",
        "\n",
        "## **Benefits of Using Star Schema in Retail Analytics**\n",
        "1. **Faster Query Performance** – Simple joins improve query execution speed.  \n",
        "2. **Easy to Understand** – Intuitive design with a clear separation of facts and dimensions.  \n",
        "3. **Scalability** – Supports large datasets and complex reporting.  \n",
        "4. **Efficient Aggregation** – Quickly calculates sales trends, revenue, and performance metrics.  \n",
        "\n",
        "---\n",
        "\n",
        "## **Example Query: Total Sales Per Store**\n",
        "```sql\n",
        "SELECT s.store_name, SUM(f.total_sales) AS total_revenue\n",
        "FROM fact_sales f\n",
        "JOIN dim_store s ON f.store_key = s.store_key\n",
        "GROUP BY s.store_name;\n"
      ],
      "metadata": {
        "id": "QZwoH4-AB2Ur"
      }
    },
    {
      "cell_type": "code",
      "execution_count": null,
      "metadata": {
        "id": "z8fNl58BBxng"
      },
      "outputs": [],
      "source": []
    },
    {
      "cell_type": "markdown",
      "source": [
        "# Star Schema in Data Warehousing (Retail Example)  \n",
        "\n",
        "A **Star Schema** is one of the most commonly used **data warehouse schemas**, designed to **optimize analytical queries**.  \n",
        "It consists of a **central fact table** that contains measurable business data and is connected to multiple **dimension tables** that provide descriptive attributes.  \n",
        "\n",
        "The structure **resembles a star**, where the **fact table** is at the center and **dimension tables** radiate outward.  \n",
        "\n",
        "---\n",
        "\n",
        "## Structure of Star Schema  \n",
        "\n",
        "### **Fact Table (Center of the Schema)**  \n",
        "- Contains **quantitative data** (measurable business events).  \n",
        "- Stores **foreign keys** that reference the primary keys of related **dimension tables**.  \n",
        "- Holds **aggregatable metrics** like **revenue, sales count, or profit**.  \n",
        "\n",
        "### **Dimension Tables (Surrounding Tables)**  \n",
        "- Contain **descriptive attributes** about business entities.  \n",
        "- Help in **filtering, grouping, and drilling down** data during analysis.  \n",
        "- Each dimension has a **primary key**, which links to the **fact table**.  \n",
        "\n",
        "---\n",
        "\n",
        "## Example: **Retail Sales Star Schema**  \n",
        "\n",
        "### **Business Scenario: Retail Store Sales Analytics**  \n",
        "A **retail company** wants to analyze sales data across different **locations, products, time periods, and customer segments**.  \n",
        "\n",
        "### **Tables in the Star Schema**  \n",
        "\n",
        "#### **1️⃣ Fact Table: `fact_sales`**  \n",
        "This table contains **transactional data** for each sale, with numerical values such as **sales revenue and quantity sold**.  \n",
        "\n",
        "| sale_id | date_key | store_key | product_key | customer_key | quantity_sold | total_sales_amount |\n",
        "|---------|---------|-----------|-------------|--------------|---------------|---------------------|\n",
        "| 1001    | 20240201 | 10        | 500         | 1000         | 2             | 40.00               |\n",
        "| 1002    | 20240202 | 12        | 502         | 1001         | 1             | 20.00               |\n",
        "| 1003    | 20240203 | 11        | 501         | 1002         | 3             | 60.00               |\n",
        "\n",
        "---\n",
        "\n",
        "#### **2️⃣ Dimension Table: `dim_date`**  \n",
        "Provides **date-based** attributes for time-based analysis.  \n",
        "\n",
        "| date_key | date       | month  | year  | weekday |\n",
        "|----------|-----------|--------|------|---------|\n",
        "| 20240201 | 2024-02-01 | Feb    | 2024 | Thursday |\n",
        "| 20240202 | 2024-02-02 | Feb    | 2024 | Friday   |\n",
        "| 20240203 | 2024-02-03 | Feb    | 2024 | Saturday |\n",
        "\n",
        "---\n",
        "\n",
        "#### **3️⃣ Dimension Table: `dim_store`**  \n",
        "Stores details about **store locations**.  \n",
        "\n",
        "| store_key | store_name      | city     | state   |\n",
        "|-----------|----------------|---------|--------|\n",
        "| 10        | Store A         | New York | NY     |\n",
        "| 11        | Store B         | Chicago  | IL     |\n",
        "| 12        | Store C         | Los Angeles | CA  |\n",
        "\n",
        "---\n",
        "\n",
        "#### **4️⃣ Dimension Table: `dim_product`**  \n",
        "Stores details about **products**.  \n",
        "\n",
        "| product_key | product_name | category    | price  |\n",
        "|------------|-------------|-------------|-------|\n",
        "| 500        | Laptop      | Electronics | 20.00 |\n",
        "| 501        | Phone       | Electronics | 30.00 |\n",
        "| 502        | Headphones  | Accessories | 20.00 |\n",
        "\n",
        "---\n",
        "\n",
        "#### **5️⃣ Dimension Table: `dim_customer`**  \n",
        "Stores details about **customers**.  \n",
        "\n",
        "| customer_key | customer_name | age | gender | city    |\n",
        "|-------------|--------------|-----|--------|--------|\n",
        "| 1000        | Alice        | 28  | F      | New York |\n",
        "| 1001        | Bob          | 32  | M      | Chicago  |\n",
        "| 1002        | Charlie      | 25  | M      | LA       |\n",
        "\n",
        "---\n",
        "\n",
        "## **Star Schema Diagram (Retail Example)**  \n"
      ],
      "metadata": {
        "id": "3nHgUpi8HqPn"
      }
    },
    {
      "cell_type": "code",
      "source": [],
      "metadata": {
        "id": "TThjhtdjVA5h"
      },
      "execution_count": null,
      "outputs": []
    },
    {
      "cell_type": "code",
      "source": [],
      "metadata": {
        "id": "oXtkdP8nVGPf"
      },
      "execution_count": null,
      "outputs": []
    },
    {
      "cell_type": "markdown",
      "source": [
        "# 2). Why Do We Need **Azure Data Factory (ADF)?**\n",
        "\n",
        "##  What is Azure Data Factory?\n",
        "Azure Data Factory (ADF) is a **cloud-based ETL (Extract, Transform, Load) and data integration service** by Microsoft Azure. It helps move, transform, and automate data workflows across different sources.\n",
        "\n",
        "##  Why Use ADF?\n",
        "### 1️⃣ Connects Multiple Data Sources\n",
        "- Supports **on-premise & cloud** databases, APIs, and files (SQL Server, Blob Storage, Snowflake, etc.).\n",
        "- Handles structured (SQL), semi-structured (JSON, Parquet), and unstructured data.\n",
        "\n",
        "### 2️⃣ No-Code & Low-Code Data Pipelines\n",
        "- **Drag-and-drop** interface to build ETL workflows.  \n",
        "- Reduces manual scripting and speeds up development.\n",
        "\n",
        "### 3️⃣ Handles Big Data Efficiently\n",
        "- **Auto-scales** for large data volumes.  \n",
        "- **Pay-as-you-go pricing** keeps costs optimized.\n",
        "\n",
        "### 4️⃣ Supports Batch & Real-Time Processing\n",
        "- **Batch:** Moves large data sets at scheduled intervals.  \n",
        "- **Real-Time:** Works with **Azure Event Hub & IoT Hub**.\n",
        "\n",
        "### 5️⃣ Built-in Security & Compliance\n",
        "- **RBAC & Managed Identity** for secure data movement.  \n",
        "- Supports **GDPR, HIPAA, and other regulations**.\n",
        "\n",
        "### 6️⃣ Works with Other Azure Services\n",
        "- Integrates with **Azure Synapse, Data Lake, Power BI, and Databricks**.  \n",
        "\n",
        "---\n",
        "\n",
        "##  Retail Use Case: Sales Analytics\n",
        "A **retail company** wants to analyze customer purchases by collecting data from:  \n",
        "✅ **SQL Server** (In-store sales data)  \n",
        "✅ **Azure Blob Storage** (Customer feedback JSON files)  \n",
        "✅ **E-commerce API** (Online sales data)  \n",
        "\n",
        "### How ADF Helps?\n",
        "1️⃣ **Extracts** data from multiple sources.  \n",
        "2️⃣ **Transforms** data (cleaning, joining, filtering).  \n",
        "3️⃣ **Loads** data into **Azure Synapse Analytics**.  \n",
        "4️⃣ **Automates** daily updates for **Power BI dashboards**.  \n",
        "\n",
        "✅ **Outcome:** Faster insights into **sales, customer behavior, and inventory trends**.  \n",
        "\n",
        "---\n",
        "\n",
        "##  Key Benefits of ADF\n",
        "| Feature            | Benefit |\n",
        "|--------------------|---------|\n",
        "| **Automated ETL**  | No manual data processing. |\n",
        "| **Scalable & Cost-Effective** | Handles large data at optimized costs. |\n",
        "| **Secure & Compliant** | Protects sensitive data. |\n",
        "| **Real-Time & Batch** | Supports both data processing types. |\n",
        "\n",
        "---\n",
        "\n",
        "## Conclusion\n",
        "Azure Data Factory is a **powerful, scalable, and cost-effective** ETL tool that helps businesses **automate and integrate** data pipelines for **analytics and reporting**.\n",
        "\n",
        "\n"
      ],
      "metadata": {
        "id": "NB9b9BP7VfJd"
      }
    },
    {
      "cell_type": "code",
      "source": [],
      "metadata": {
        "id": "mP9Zu6njV1xd"
      },
      "execution_count": null,
      "outputs": []
    },
    {
      "cell_type": "markdown",
      "source": [
        "#**3). What is Integration Runtime (IR)?**\n",
        "\n",
        "**Integration Runtime (IR)** is the compute infrastructure used by **Azure Data Factory (ADF)** and **Synapse Pipelines** to perform data movement, transformation, and activity execution.\n",
        "\n",
        "---\n",
        "\n",
        "## **🔹 Types of Integration Runtime**\n",
        "### **1️⃣ Azure IR (Default)**\n",
        "✅ **Fully managed by Azure**  \n",
        "✅ Used for **cloud-based** data movement & transformation  \n",
        "✅ Supports **copy, data flow, and external activities**  \n",
        "\n",
        "### **2️⃣ Self-Hosted IR**\n",
        "✅ Installed on **on-premise or VM**  \n",
        "✅ Connects to **on-premise databases (SQL Server, Oracle, etc.)**  \n",
        "✅ Used when **data cannot be moved to the cloud directly**  \n",
        "\n",
        "### **3️⃣ Azure SSIS IR**\n",
        "✅ Used for running **SQL Server Integration Services (SSIS) packages** in Azure  \n",
        "✅ Helps migrate **on-prem SSIS workflows to the cloud**  \n",
        "\n",
        "---\n",
        "\n",
        "## **🛒 Retail Example: Moving Sales Data**\n",
        "A **retail company** wants to move data from **on-premise SQL Server** to **Azure Synapse Analytics** for reporting.  \n",
        "\n",
        "**Solution:**\n",
        "🔹 Use **Self-Hosted IR** to securely transfer on-prem data to Azure.  \n",
        "🔹 Use **Azure IR** to transform and load it into **Synapse for analysis**.  \n",
        "\n",
        "✅ **Ensures secure, fast, and reliable data movement!** 🚀  \n",
        "\n",
        "---\n",
        "\n",
        "## **🎯 Key Benefits**\n",
        "| Type | When to Use? |\n",
        "|------|-------------|\n",
        "| **Azure IR** | Cloud-based ETL & transformations |\n",
        "| **Self-Hosted IR** | On-prem to cloud data movement |\n",
        "| **Azure SSIS IR** | Running SSIS in Azure |\n",
        "\n",
        "  \n"
      ],
      "metadata": {
        "id": "KDKO6nMQXZkt"
      }
    },
    {
      "cell_type": "code",
      "source": [],
      "metadata": {
        "id": "MK6RoolAYsXc"
      },
      "execution_count": null,
      "outputs": []
    },
    {
      "cell_type": "markdown",
      "source": [
        "# 4). Limit on the Number of **Integration Runtimes (IR)** in Azure Data Factory  \n",
        "\n",
        "## **📌 How Many IRs Can You Create?**  \n",
        "Azure Data Factory allows you to create **up to 1,000 Integration Runtimes (IRs) per region per subscription**.  \n",
        "\n",
        "## **🔹 Breakdown of Limits**\n",
        "| **Integration Runtime Type** | **Limit per Subscription (per Region)** |\n",
        "|-----------------------------|--------------------------------------|\n",
        "| **Azure Integration Runtime** | 1,000 |\n",
        "| **Self-Hosted Integration Runtime** | 1,000 |\n",
        "| **Azure-SSIS Integration Runtime** | 1,000 |\n",
        "\n",
        "## **🛒 Retail Example: Handling Multiple Stores**  \n",
        "A retail company with **multiple branches** wants to transfer sales data from:  \n",
        "✅ **Cloud databases (Azure IR)** for e-commerce sales  \n",
        "✅ **On-prem SQL servers (Self-Hosted IR)** for in-store transactions  \n",
        "✅ **SSIS packages (Azure-SSIS IR)** for legacy data processing  \n",
        "\n",
        "**With 1,000 IRs available, scaling is never a problem!** 🚀  \n",
        "\n",
        "🚀 **Azure provides enough IRs to handle enterprise-scale data workloads efficiently!**  \n"
      ],
      "metadata": {
        "id": "wCQMQ6YzZ8j7"
      }
    },
    {
      "cell_type": "code",
      "source": [],
      "metadata": {
        "id": "qyIIVWh9b8jV"
      },
      "execution_count": null,
      "outputs": []
    },
    {
      "cell_type": "markdown",
      "source": [
        "## **5). Components of Azure Data Factory (ADF)**  \n",
        "\n",
        "Azure Data Factory (ADF) is a **cloud-based ETL** service used for data movement and transformation. It consists of several key components:\n",
        "\n",
        "---\n",
        "\n",
        "## **1️⃣ Pipelines**  \n",
        "A **pipeline** is a logical group of activities that perform a data workflow.  \n",
        "✅ Example: A pipeline that **extracts sales data** from SQL, **transforms it**, and **loads it into Synapse**.\n",
        "\n",
        "---\n",
        "\n",
        "## **2️⃣ Activities**  \n",
        "Activities define the **action** to be performed within a pipeline.  \n",
        "✅ **Types of Activities:**  \n",
        "- **Data Movement** → Copy data from source to destination.  \n",
        "- **Data Transformation** → Use **Data Flow, Databricks, or SQL** for processing.  \n",
        "- **Control Flow** → Manage execution (e.g., If-Else, ForEach loops).  \n",
        "\n",
        "---\n",
        "\n",
        "## **3️⃣ Datasets**  \n",
        "A **dataset** represents **structured data** within a data store.  \n",
        "✅ Example: A **Sales dataset** in Azure SQL or a **Product dataset** in Blob Storage.\n",
        "\n",
        "---\n",
        "\n",
        "## **4️⃣ Linked Services**  \n",
        "Linked Services are **connections** to data sources like databases, storage, or APIs.  \n",
        "✅ Example: **Azure SQL, Blob Storage, Amazon S3, SAP, REST API**.\n",
        "\n",
        "---\n",
        "\n",
        "## **5️⃣ Integration Runtime (IR)**  \n",
        "The **compute infrastructure** for data movement & transformation.  \n",
        "✅ **Types:**  \n",
        "- **Azure IR** → Cloud-based processing.  \n",
        "- **Self-Hosted IR** → On-prem to cloud data transfer.  \n",
        "- **Azure-SSIS IR** → Running SSIS packages in Azure.\n",
        "\n",
        "---\n",
        "\n",
        "## **6️⃣ Triggers**  \n",
        "Triggers **automate pipeline execution** based on time or events.  \n",
        "✅ **Types:**  \n",
        "- **Schedule Trigger** → Runs at a fixed time (e.g., daily at 2 AM).  \n",
        "- **Event-Based Trigger** → Runs when a file is added/modified in Blob Storage.  \n",
        "- **Tumbling Window Trigger** → Used for incremental data loads.\n",
        "\n",
        "---\n",
        "\n",
        "## **🛒 Retail Example: Processing Sales Data**  \n",
        "A **retail company** automates **daily sales data processing**:  \n",
        "🔹 **Pipeline:** Extract sales data from **Azure SQL** → Transform using **Databricks** → Load into **Synapse Analytics**.  \n",
        "🔹 **Trigger:** Runs **every day at 1 AM**.  \n",
        "🔹 **Integration Runtime:** Uses **Azure IR** for cloud processing.  \n",
        "\n",
        "✅ **Outcome:** Automates **sales reporting, forecasting, and analytics**.  \n",
        "\n",
        "---\n",
        "\n",
        "## **🎯 Summary of ADF Components**\n",
        "| **Component** | **Purpose** |\n",
        "|--------------|------------|\n",
        "| **Pipeline** | Workflow of activities |\n",
        "| **Activity** | Task inside a pipeline |\n",
        "| **Dataset** | Represents data from a source |\n",
        "| **Linked Service** | Connection to a data store |\n",
        "| **Integration Runtime** | Handles data movement & transformation |\n",
        "| **Trigger** | Automates pipeline execution |\n",
        "\n",
        "\n"
      ],
      "metadata": {
        "id": "VRc1rYXhb-X3"
      }
    },
    {
      "cell_type": "code",
      "source": [],
      "metadata": {
        "id": "fnNT-m8UtPuG"
      },
      "execution_count": null,
      "outputs": []
    },
    {
      "cell_type": "markdown",
      "source": [
        "## 6). Components of **Azure Data Factory (ADF)**  \n",
        "\n",
        "Azure Data Factory (ADF) is a **cloud-based ETL service** that enables **data movement, transformation, and orchestration** across various sources. It consists of several key components:\n",
        "\n",
        "---\n",
        "\n",
        "## **1️⃣ Pipelines**  \n",
        "A **pipeline** is a collection of **activities** that perform a specific workflow.  \n",
        "✅ Example: Extracting sales data from **Azure SQL**, transforming it, and loading it into **Azure Synapse**.\n",
        "\n",
        "---\n",
        "\n",
        "## **2️⃣ Activities**  \n",
        "An **activity** is a single **task** executed within a pipeline.  \n",
        "✅ **Types of Activities:**  \n",
        "- **Data Movement** → Copy data from one source to another.  \n",
        "- **Data Transformation** → Use **Mapping Data Flows, Databricks, SQL scripts**.  \n",
        "- **Control Flow** → Manage execution (e.g., **If-Else, ForEach loops**).  \n",
        "\n",
        "---\n",
        "\n",
        "## **3️⃣ Datasets**  \n",
        "A **dataset** represents **structured data** stored in a data source.  \n",
        "✅ Example: A **Sales dataset** from Azure SQL or a **Product dataset** from Blob Storage.\n",
        "\n",
        "---\n",
        "\n",
        "## **4️⃣ Linked Services**  \n",
        "A **Linked Service** acts as a **connection** to external data sources, similar to a **connection string**.  \n",
        "✅ Example: Connections to **Azure SQL Database, Blob Storage, Amazon S3, SAP, REST APIs**.\n",
        "\n",
        "---\n",
        "\n",
        "## **5️⃣ Integration Runtime (IR)**  \n",
        "The **compute infrastructure** responsible for executing **data movement and transformation** tasks.  \n",
        "✅ **Types of Integration Runtimes:**  \n",
        "- **Azure IR** → Cloud-based, fully managed by Azure.  \n",
        "- **Self-Hosted IR** → On-premises execution, useful for private networks.  \n",
        "- **Azure-SSIS IR** → Runs SSIS packages in Azure.\n",
        "\n",
        "---\n",
        "\n",
        "## **6️⃣ Triggers**  \n",
        "Triggers **automate pipeline execution** based on time or events.  \n",
        "✅ **Types of Triggers:**  \n",
        "- **Schedule Trigger** → Runs pipelines at a specified time.  \n",
        "- **Event-Based Trigger** → Runs when a new file is added/modified in storage.  \n",
        "- **Tumbling Window Trigger** → Used for **incremental data loads**.\n",
        "\n",
        "---\n",
        "\n",
        "## **🛒 Retail Example: Processing Sales Data**  \n",
        "A **retail company** automates **daily sales data processing**:  \n",
        "🔹 **Pipeline:** Extracts sales data from **Azure SQL** → Transforms using **Databricks** → Loads into **Azure Synapse**.  \n",
        "🔹 **Trigger:** Runs **every day at 1 AM**.  \n",
        "🔹 **Integration Runtime:** Uses **Azure IR** for cloud processing.  \n",
        "\n",
        "✅ **Outcome:** Automates **sales reporting, demand forecasting, and trend analysis**.\n",
        "\n",
        "---\n",
        "\n",
        "## **🎯 Summary of ADF Components**\n",
        "| **Component** | **Purpose** |\n",
        "|--------------|------------|\n",
        "| **Pipeline** | A workflow containing activities |\n",
        "| **Activity** | A task inside a pipeline |\n",
        "| **Dataset** | Represents data in a source |\n",
        "| **Linked Service** | Connects to external data sources |\n",
        "| **Integration Runtime** | Executes data movement & transformation |\n",
        "| **Trigger** | Automates pipeline execution |\n",
        "\n",
        "🚀 **Azure Data Factory simplifies ETL and data integration, making data processing efficient and scalable!** 😊  \n"
      ],
      "metadata": {
        "id": "qjh5NDIqaHlW"
      }
    },
    {
      "cell_type": "code",
      "source": [],
      "metadata": {
        "id": "XwKmCyezauVi"
      },
      "execution_count": null,
      "outputs": []
    },
    {
      "cell_type": "markdown",
      "source": [
        "## 7). Key Difference: **Dataset vs. Linked Service in Azure Data Factory**  \n",
        "\n",
        "In **Azure Data Factory (ADF)**, both **Datasets** and **Linked Services** play crucial roles in defining and accessing data sources. However, they serve **different purposes**:\n",
        "\n",
        "---\n",
        "\n",
        "## **1️⃣ Linked Service**  \n",
        "A **Linked Service** defines **how to connect** to a data source. It stores **connection details** such as:  \n",
        "✅ **Server name**  \n",
        "✅ **Username & password**  \n",
        "✅ **Authentication method**  \n",
        "\n",
        "### **Example: Linked Service for Azure SQL Database**\n",
        "A **Linked Service** for Azure SQL Database would contain:  \n",
        "- **Server Name:** `myserver.database.windows.net`  \n",
        "- **Database Name:** `RetailDB`  \n",
        "- **Authentication:** Azure AD / SQL Authentication  \n",
        "\n",
        "---\n",
        "\n",
        "## **2️⃣ Dataset**  \n",
        "A **Dataset** represents **what to access** within a data source. It specifies:  \n",
        "✅ **Table name (for databases)**  \n",
        "✅ **File path (for storage services)**  \n",
        "✅ **Schema and format (JSON, CSV, Parquet, etc.)**  \n",
        "\n",
        "### **Example: Dataset for Sales Table**  \n",
        "A **Dataset** for the `Sales` table in Azure SQL would specify:  \n",
        "- **Linked Service:** `AzureSQL_LinkedService`  \n",
        "- **Table Name:** `Sales`  \n",
        "\n",
        "---\n",
        "\n",
        "## **🛒 Retail Example: Sales Data Processing**  \n",
        "A retail company processes daily **sales transactions** stored in Azure SQL.\n",
        "\n",
        "| **Component** | **Purpose** | **Example** |\n",
        "|--------------|------------|-------------|\n",
        "| **Linked Service** | Defines **how** to connect to Azure SQL | Connection details for `RetailDB` |\n",
        "| **Dataset** | Defines **what** to access | `Sales` table in `RetailDB` |\n",
        "\n",
        "---\n",
        "\n",
        "## **🎯 Key Takeaways**\n",
        "✔ **Linked Service = Connection Configuration** (How to connect?)  \n",
        "✔ **Dataset = Data Specification** (What data to access?)  \n",
        "\n",
        "🚀 **Together, they enable seamless data movement and processing in ADF!** 😊  \n"
      ],
      "metadata": {
        "id": "TNcs2axMau32"
      }
    },
    {
      "cell_type": "code",
      "source": [],
      "metadata": {
        "id": "N7Ht1zCNbAU1"
      },
      "execution_count": null,
      "outputs": []
    },
    {
      "cell_type": "markdown",
      "source": [
        "## 8). Types of Triggers in Azure Data Factory  \n",
        "\n",
        "A **Trigger** in Azure Data Factory automates pipeline execution **without manual intervention**.  \n",
        "Triggers can be based on **time, events, or data availability**.\n",
        "\n",
        "---\n",
        "\n",
        "## **1️⃣ Schedule Trigger**  \n",
        "✅ Runs at a **fixed time** or on a **recurring schedule**.  \n",
        "✅ Example: Run a pipeline **daily at 6 AM** to load sales data into a data warehouse.  \n",
        "\n",
        "### **Example: Schedule Trigger in Retail**  \n",
        "A retail company schedules a **daily pipeline** to process transactions at **midnight**.\n",
        "\n",
        "# **2️⃣ Event-Based Trigger**\n",
        "✅ Runs when a file is created or deleted in Azure Blob Storage.\n",
        "✅ Example: Trigger a pipeline when a new sales report is uploaded.\n",
        "\n",
        "# **Event Trigger in Retail**\n",
        "A trigger runs when a new CSV file with sales data is added to SalesDataContainer\n",
        "3️⃣ Tumbling Window Trigger\n",
        "✅ Runs at fixed intervals (e.g., every hour) and ensures dependency tracking.\n",
        "✅ Example: Process sales data in hourly batches.\n",
        "\n",
        "**Example: Tumbling Window Trigger in Retail**\n",
        "A retail analytics pipeline aggregates hourly sales data."
      ],
      "metadata": {
        "id": "-QRSw9HIbBAF"
      }
    },
    {
      "cell_type": "code",
      "source": [],
      "metadata": {
        "id": "h_vwyZLCbLsN"
      },
      "execution_count": null,
      "outputs": []
    },
    {
      "cell_type": "markdown",
      "source": [
        "## 9).**Azure Data Lake vs. Azure Data Warehouse**  \n",
        "\n",
        "## **Azure Data Lake (ADLS Gen2)**  \n",
        "- Stores all types of data (**structured, semi-structured, unstructured**).  \n",
        "- Supports formats like **CSV, JSON, Parquet, images, logs**.  \n",
        "- Used for **big data analytics, AI, ML, and ETL processing**.  \n",
        "- Works with **Databricks, Apache Spark** for processing.  \n",
        "- **Decoupled storage & compute** for flexibility.  \n",
        "\n",
        "## **Azure Data Warehouse (Azure Synapse Analytics)**  \n",
        "- Stores **structured, processed data** for **BI and reporting**.  \n",
        "- Uses **columnar storage** for fast **SQL-based queries**.  \n",
        "- Works with **Power BI, SQL Server** for analytics.  \n",
        "- **Integrated storage & compute** for performance.  \n",
        "\n",
        "## **Key Differences**  \n",
        "- **Data Lake** → Stores **raw, unstructured data** for analytics.  \n",
        "- **Data Warehouse** → Stores **structured data** for BI & reporting.  \n",
        "- **Data Lake** is flexible, while **Data Warehouse** is optimized for fast queries.  \n",
        "\n",
        "## **Retail Example**  \n",
        "- **Data Lake** → Stores **customer interactions & logs** for AI analysis.  \n",
        "- **Data Warehouse** → Stores **sales transactions** for BI reports.  \n",
        "\n",
        "## 🚀 **Takeaway:**  \n",
        "👉 Use **Data Lake** for **big data analytics**.  \n",
        "👉 Use **Data Warehouse** for **structured reporting**.  \n"
      ],
      "metadata": {
        "id": "jFLZ-1wmbtR5"
      }
    },
    {
      "cell_type": "code",
      "source": [],
      "metadata": {
        "id": "pW5YSGTWbsq6"
      },
      "execution_count": null,
      "outputs": []
    },
    {
      "cell_type": "markdown",
      "source": [
        "#**Intermediate Azure Data Factory Interview Questions**"
      ],
      "metadata": {
        "id": "TjY_GcTscYQ0"
      }
    },
    {
      "cell_type": "markdown",
      "source": [
        "##10) **Azure Blob Storage**  \n",
        "\n",
        "## **Overview**  \n",
        "Azure Blob Storage is a **cloud-based object storage service** designed to store and manage **large amounts of unstructured data** like text, images, videos, and backups. It is highly scalable, secure, and cost-effective.  \n",
        "\n",
        "## **Key Features**  \n",
        "- Stores **unstructured data** (documents, logs, media files).  \n",
        "- Supports **hot, cool, and archive tiers** for cost optimization.  \n",
        "- Provides **high availability and disaster recovery**.  \n",
        "- Integrates with **Azure Data Factory, Databricks, and Synapse Analytics**.  \n",
        "\n",
        "## **Types of Blobs**  \n",
        "1️⃣ **Block Blob** – Stores large files efficiently, like images and videos.  \n",
        "2️⃣ **Append Blob** – Optimized for **log files** and event-driven data.  \n",
        "3️⃣ **Page Blob** – Used for **virtual machine (VM) disks**.  \n",
        "\n",
        "## **Retail Example**  \n",
        "- **Product images, receipts, and invoices** are stored in Blob Storage.  \n",
        "- **Sales logs and transaction backups** are managed using **Append Blobs**.  \n",
        "\n",
        "## 🚀 **Takeaway:**  \n",
        "👉 **Use Azure Blob Storage** for **storing and managing unstructured data** efficiently.  \n"
      ],
      "metadata": {
        "id": "vOIolXdYcPnz"
      }
    },
    {
      "cell_type": "markdown",
      "source": [],
      "metadata": {
        "id": "fRwx41R-bMEt"
      }
    },
    {
      "cell_type": "code",
      "source": [],
      "metadata": {
        "id": "oi451ecOchEN"
      },
      "execution_count": null,
      "outputs": []
    },
    {
      "cell_type": "markdown",
      "source": [
        "## **11).Difference Between Azure Data Lake Storage and Blob Storage**  \n",
        "\n",
        "## **Azure Data Lake Storage (ADLS Gen2)**  \n",
        "- ✅ Optimized for **big data analytics** and large-scale data processing.  \n",
        "- ✅ Supports **structured, semi-structured, and unstructured** data.  \n",
        "- ✅ Uses **Hierarchical Namespace (HNS)** to organize data into directories and subdirectories.  \n",
        "- ✅ Works seamlessly with **Azure Databricks, Apache Spark, and Synapse Analytics**.  \n",
        "- ✅ Provides **fine-grained security controls** with **Access Control Lists (ACLs)**.  \n",
        "- ✅ Best for **data lakes, ETL pipelines, AI/ML workloads, and analytics**.  \n",
        "\n",
        "## **Azure Blob Storage**  \n",
        "- ✅ General-purpose **object storage** for storing **unstructured data** (e.g., images, videos, backups, logs).  \n",
        "- ✅ Uses a **flat storage structure** (objects stored in containers, no folders).  \n",
        "- ✅ Supports **cost-effective storage tiers** (Hot, Cool, Archive) for managing data lifecycle.  \n",
        "- ✅ Provides **basic security** using **RBAC and SAS tokens**.  \n",
        "- ✅ Best for **media storage, backups, document storage, and web content hosting**.  \n",
        "\n",
        "## **Retail Example**  \n",
        "- **ADLS** → Stores **sales transactions, customer logs, and large datasets for analytics**.  \n",
        "- **Blob Storage** → Stores **product images, invoices, promotional videos, and backups**.  \n",
        "\n",
        "## 🚀 **Takeaway**  \n",
        "✔️ Use **ADLS** for **big data processing and analytics**.  \n",
        "✔️ Use **Blob Storage** for **storing files, media, and backups**.  \n"
      ],
      "metadata": {
        "id": "9CAjy31WdXKw"
      }
    },
    {
      "cell_type": "code",
      "source": [],
      "metadata": {
        "id": "cp945cJmddE4"
      },
      "execution_count": null,
      "outputs": []
    },
    {
      "cell_type": "markdown",
      "source": [
        "## **12).Steps to Create an ETL Process in Azure Data Factory**  \n",
        "\n",
        "### **1️⃣ Create an Azure Data Factory Instance**  \n",
        "- Log in to the **Azure Portal** and create a **Data Factory** resource.  \n",
        "\n",
        "### **2️⃣ Set Up Linked Services (Source & Destination)**  \n",
        "- Define connections to **data sources** (Blob Storage, SQL, ADLS, etc.).  \n",
        "\n",
        "### **3️⃣ Create Datasets**  \n",
        "- Represent the **data structure** (e.g., CSV, Parquet, tables) for both source and destination.  \n",
        "\n",
        "### **4️⃣ Build the ETL Pipeline**  \n",
        "- Use **Copy Data Activity** for simple data movement.  \n",
        "- Apply **Data Flow** for complex transformations (filtering, aggregations, joins).  \n",
        "\n",
        "### **5️⃣ Configure Triggers**  \n",
        "- **Schedule Trigger** → Runs at a fixed time (e.g., daily at midnight).  \n",
        "- **Event Trigger** → Runs when a new file is uploaded to Blob Storage.  \n",
        "\n",
        "### **6️⃣ Monitor & Debug**  \n",
        "- Track pipeline execution in **ADF Monitor**.  \n",
        "- Handle failures using **retry policies & logging**.  \n",
        "\n",
        "### **Example: Retail Use Case**  \n",
        "- Extract **sales data** from **Azure Blob Storage**.  \n",
        "- Transform it in **Data Flow** (cleaning, aggregations).  \n",
        "- Load into **Azure Synapse Analytics** for BI reporting.  \n",
        "\n",
        "**✅ ADF automates and orchestrates ETL for efficient data movement and processing.**  \n"
      ],
      "metadata": {
        "id": "DKse0A6BdcVx"
      }
    },
    {
      "cell_type": "code",
      "source": [],
      "metadata": {
        "id": "RvXlhqisdohw"
      },
      "execution_count": null,
      "outputs": []
    },
    {
      "cell_type": "markdown",
      "source": [
        "## **13). Azure HDInsight vs. Azure Data Lake Analytics**  \n",
        "\n",
        "## **1️⃣ Azure HDInsight**  \n",
        "✅ A **fully managed Apache big data service** (Hadoop, Spark, Hive, HBase, etc.).  \n",
        "✅ Used for **batch processing, real-time analytics, and machine learning**.  \n",
        "✅ Requires managing **clusters & scaling**.  \n",
        "✅ Best for **large-scale data processing** using open-source frameworks.  \n",
        "\n",
        "### **Example:**  \n",
        "- A retail company uses **Spark on HDInsight** to analyze real-time customer purchase trends.  \n",
        "\n",
        "---\n",
        "\n",
        "## **2️⃣ Azure Data Lake Analytics (ADLA)**  \n",
        "✅ A **serverless** analytics service that runs U-SQL queries.  \n",
        "✅ No need to manage infrastructure—**pay-per-query execution**.  \n",
        "✅ Optimized for **big data transformations & on-demand processing**.  \n",
        "✅ Best for **ETL workloads, log analysis, and ad-hoc querying**.  \n",
        "\n",
        "### **Example:**  \n",
        "- A retailer runs **U-SQL queries on ADLA** to process large transaction logs for sales insights.  \n",
        "\n",
        "---\n",
        "\n",
        "## **Key Differences**  \n",
        "🔹 **HDInsight** → Requires managing clusters, supports multiple big data frameworks.  \n",
        "🔹 **ADLA** → Serverless, no cluster management, optimized for on-demand data processing.  \n",
        "\n",
        "**🚀 Choose HDInsight for large-scale data processing, and ADLA for quick, on-demand analytics.**  \n"
      ],
      "metadata": {
        "id": "2J2wl4bgdo9D"
      }
    },
    {
      "cell_type": "code",
      "source": [],
      "metadata": {
        "id": "MH1J_32jdwUT"
      },
      "execution_count": null,
      "outputs": []
    },
    {
      "cell_type": "markdown",
      "source": [
        "## **14). Top-Level Concepts of Azure Data Factory (ADF)**  \n",
        "\n",
        "Azure Data Factory (ADF) is a cloud-based **ETL & data integration service** that enables **data movement, transformation, and orchestration** across various data sources.\n",
        "\n",
        "## **1️⃣ Pipeline**  \n",
        "- A **workflow** containing a sequence of data movement & transformation activities.  \n",
        "- Example: A pipeline moves **sales data** from Azure Blob to Synapse and transforms it.  \n",
        "\n",
        "## **2️⃣ Activities**  \n",
        "- **Tasks** inside a pipeline, like **Copy, Data Flow, Stored Procedure, Web, and Lookups**.  \n",
        "- Example: A **Copy Activity** transfers data from an on-prem SQL database to ADLS.  \n",
        "\n",
        "## **3️⃣ Datasets**  \n",
        "- Represent **data structures** (tables, files, folders) within **Linked Services**.  \n",
        "- Example: A **dataset** defines a CSV file format stored in Azure Blob Storage.  \n",
        "\n",
        "## **4️⃣ Linked Services**  \n",
        "- **Connection details** for data sources (Azure SQL, ADLS, Blob Storage, etc.).  \n",
        "- Example: A **Linked Service** connects ADF to an Azure SQL Database.  \n",
        "\n",
        "## **5️⃣ Integration Runtime (IR)**  \n",
        "- **Compute engine** that executes activities. Three types:  \n",
        "  - **Azure IR** → Runs in the cloud.  \n",
        "  - **Self-Hosted IR** → Runs on-prem for hybrid data integration.  \n",
        "  - **Azure SSIS IR** → Runs SSIS packages in ADF.  \n",
        "\n",
        "## **6️⃣ Triggers**  \n",
        "- **Automates pipeline execution** based on **schedule, event, or tumbling windows**.  \n",
        "- Example: A **Schedule Trigger** runs a pipeline every day at 2 AM.  \n",
        "\n",
        "## **7️⃣ Data Flows**  \n",
        "- Enables **data transformation** with a visual, code-free interface using **Spark clusters**.  \n",
        "- Example: Cleans & aggregates sales data before loading into Synapse.  \n",
        "\n",
        "**🚀 Azure Data Factory orchestrates ETL workflows, moving & transforming data efficiently.**  \n"
      ],
      "metadata": {
        "id": "fXXDoe-Odwuk"
      }
    },
    {
      "cell_type": "code",
      "source": [],
      "metadata": {
        "id": "bq4LJbYDd564"
      },
      "execution_count": null,
      "outputs": []
    },
    {
      "cell_type": "markdown",
      "source": [
        "## **15). Key Differences: Mapping Data Flow vs. Wrangling Data Flow in Azure Data Factory**  \n",
        "\n",
        "Azure Data Factory provides **two types of data transformation flows**: **Mapping Data Flow** and **Wrangling Data Flow**. Both are used for transforming data, but they serve different purposes.\n",
        "\n",
        "## **1️⃣ Mapping Data Flow**  \n",
        "✅ **Graphical, code-free** data transformation based on **Spark clusters**.  \n",
        "✅ Uses a **drag-and-drop** interface to apply transformations (Joins, Aggregations, Filters).  \n",
        "✅ Works well for **structured & semi-structured data** (CSV, JSON, Parquet).  \n",
        "✅ **Best for batch ETL processing** and scalable transformations.  \n",
        "✅ Supports **data lineage tracking** for debugging and auditing.  \n",
        "✅ Example: Cleansing and aggregating sales data before loading into Synapse.\n",
        "\n",
        "## **2️⃣ Wrangling Data Flow**  \n",
        "✅ **Built on Power Query** (similar to Excel’s Power Query Editor).  \n",
        "✅ Allows users to **interactively shape and clean data** with UI-based transformations.  \n",
        "✅ Works well for **business users and analysts** familiar with Power Query.  \n",
        "✅ **Best for self-service, ad-hoc data wrangling** rather than large-scale ETL.  \n",
        "✅ Limited to **structured data sources** like SQL Server, Azure Blob, and ADLS.  \n",
        "✅ Example: Cleaning messy customer data before loading it into a data warehouse.\n",
        "\n",
        "---\n",
        "\n",
        "### **🚀 Key Takeaway**  \n",
        "- **Use Mapping Data Flow** for **large-scale ETL transformations** with complex logic.  \n",
        "- **Use Wrangling Data Flow** for **ad-hoc data shaping** when working with structured data.  \n"
      ],
      "metadata": {
        "id": "ebOO9kgnd6Zv"
      }
    },
    {
      "cell_type": "code",
      "source": [],
      "metadata": {
        "id": "nhi2XLBteN65"
      },
      "execution_count": null,
      "outputs": []
    },
    {
      "cell_type": "code",
      "source": [],
      "metadata": {
        "id": "wHPQvviIe0L9"
      },
      "execution_count": null,
      "outputs": []
    },
    {
      "cell_type": "markdown",
      "source": [
        "## **16). Is Coding Required for Azure Data Factory?**  \n",
        "\n",
        "Azure Data Factory (ADF) is a **low-code/no-code** data integration service, but some coding knowledge can enhance its capabilities.  \n",
        "\n",
        "## **When Coding is NOT Required**  \n",
        "- Drag-and-drop UI for building pipelines and data transformations.  \n",
        "- Pre-built connectors for various data sources.  \n",
        "- Parameterization and expression-based configurations.  \n",
        "- Integration with Power Query for self-service data wrangling.  \n",
        "\n",
        "## **When Coding is Helpful**  \n",
        "- Writing custom expressions in Mapping Data Flows.  \n",
        "- Using Azure Functions & Logic Apps for event-driven processing.  \n",
        "- Scripting in SQL or Python for complex transformations.  \n",
        "- PowerShell, ARM Templates, or Terraform for automating ADF deployments.  \n",
        "- REST APIs for integrating ADF with external applications.  \n",
        "\n",
        "### **Key Takeaway**  \n",
        "- No coding required for basic ETL workflows.  \n",
        "- Basic coding skills (SQL, expressions, JSON) improve efficiency.  \n",
        "- Advanced coding (Python, PowerShell, APIs) helps with automation and complex tasks.  \n"
      ],
      "metadata": {
        "id": "ZZ7pDM2ye0op"
      }
    },
    {
      "cell_type": "code",
      "source": [],
      "metadata": {
        "id": "hbD-bc6be8_R"
      },
      "execution_count": null,
      "outputs": []
    },
    {
      "cell_type": "markdown",
      "source": [
        "## **17). Azure Data Factory: Pipeline Scheduling & Parameter Handling**  \n",
        "\n",
        "## **1️⃣ How can we schedule a pipeline?**  \n",
        "✅ Use **Triggers** to automate pipeline execution.  \n",
        "- **Schedule Trigger** → Runs at a fixed time.  \n",
        "- **Event-Based Trigger** → Runs when a file is added/deleted in Blob Storage.  \n",
        "- **Tumbling Window Trigger** → Runs at regular intervals with dependency tracking.  \n",
        "\n",
        "---\n",
        "\n",
        "## **2️⃣ Can we pass parameters to a pipeline run?**  \n",
        "✅ Yes, **pipeline parameters** allow passing values at runtime.  \n",
        "- Parameters are defined at the **pipeline level**.  \n",
        "- Values are passed when triggering the pipeline manually or via a trigger.  \n",
        "\n"
      ],
      "metadata": {
        "id": "VHYDK_uoe9bU"
      }
    },
    {
      "cell_type": "code",
      "source": [],
      "metadata": {
        "id": "bUnUQjmMfZVe"
      },
      "execution_count": null,
      "outputs": []
    },
    {
      "cell_type": "markdown",
      "source": [
        "# **Advanced Azure Data Factory Interview Questions**"
      ],
      "metadata": {
        "id": "lKgGZPrwfogH"
      }
    },
    {
      "cell_type": "markdown",
      "source": [
        "## **18). How to Schedule a Pipeline in Azure Data Factory?**\n",
        "\n",
        "Azure Data Factory allows scheduling pipelines using **Triggers** to automate execution.\n",
        "\n",
        "## **1️⃣ Schedule Trigger**\n",
        "- Runs at a fixed time or on a recurring schedule.\n",
        "- Example: Execute a pipeline **daily at 6 AM**.\n",
        "\n",
        "## **2️⃣ Event-Based Trigger**\n",
        "- Executes when a file is added or deleted in Azure Blob Storage.\n",
        "- Example: Run a pipeline when a **new sales report** is uploaded.\n",
        "\n",
        "## **3️⃣ Tumbling Window Trigger**\n",
        "- Runs at fixed intervals (e.g., hourly) and tracks dependencies.\n",
        "- Example: Process sales data **every hour**.\n",
        "\n",
        "Triggers ensure automated and efficient pipeline execution in ADF.\n"
      ],
      "metadata": {
        "id": "vfigxGBAfZu-"
      }
    },
    {
      "cell_type": "markdown",
      "source": [],
      "metadata": {
        "id": "-joZMGbcfzBv"
      }
    },
    {
      "cell_type": "markdown",
      "source": [
        "## **19).Can We Pass Parameters to a Pipeline Run in Azure Data Factory?**  \n",
        "\n",
        "✅ **Yes**, Azure Data Factory allows passing parameters to a pipeline during execution.  \n",
        "\n",
        "## **🔹 How It Works?**  \n",
        "\n",
        "1️⃣ **Define Parameters in the Pipeline**  \n",
        "   - Go to **Pipeline Settings** → Add **parameters** with a default value (optional).  \n",
        "\n",
        "2️⃣ **Pass Parameters During Execution**  \n",
        "   - When triggering the pipeline manually or via REST API, pass values dynamically.  \n",
        "\n",
        "3️⃣ **Use Parameters in Activities**  \n",
        "   - Reference parameters inside **Copy Data, Stored Procedure, or other activities** using `@pipeline().parameters.paramName`.  \n",
        "\n",
        "### **📌 Example Use Case**  \n",
        "A pipeline processing sales data for a specific **date**:  \n",
        "- Define a `dateParameter`.  \n",
        "- Pass the required date when executing the pipeline.  \n"
      ],
      "metadata": {
        "id": "zFf8CgHGf-b4"
      }
    },
    {
      "cell_type": "code",
      "source": [],
      "metadata": {
        "id": "Z5J2t1J8gAZT"
      },
      "execution_count": null,
      "outputs": []
    },
    {
      "cell_type": "markdown",
      "source": [
        "## **20). Can I Define Default Values for Pipeline Parameters in Azure Data Factory?**  \n",
        "\n",
        "✅ **Yes**, Azure Data Factory allows you to set default values for pipeline parameters.  \n",
        "\n",
        "## **🔹 How to Define Default Values?**  \n",
        "1️⃣ **Go to the Pipeline in ADF Studio.**  \n",
        "2️⃣ **Open the Parameters Tab.**  \n",
        "3️⃣ **Create a New Parameter** and specify a **default value**.  \n",
        "4️⃣ **Use the Parameter in Activities** using `@pipeline().parameters.paramName`.  \n",
        "5️⃣ If no value is passed at runtime, **ADF uses the default value**.  \n",
        "\n",
        "### **📌 Example Use Case**  \n",
        "A pipeline processes sales data. If no date is provided, it should use today’s date by default.  \n",
        "\n"
      ],
      "metadata": {
        "id": "-af8JhNegA_E"
      }
    },
    {
      "cell_type": "code",
      "source": [],
      "metadata": {
        "id": "lluSQG-Rgw27"
      },
      "execution_count": null,
      "outputs": []
    },
    {
      "cell_type": "markdown",
      "source": [
        "## **21). Can an Activity in a Pipeline Consume Arguments Passed to a Pipeline Run?**  \n",
        "\n",
        "✅ **Yes**, activities in an Azure Data Factory (ADF) pipeline can consume arguments passed to a pipeline run using **pipeline parameters**.  \n",
        "\n",
        "## **🔹 How It Works?**  \n",
        "1️⃣ **Define Parameters** at the pipeline level.  \n",
        "2️⃣ **Pass Arguments** when triggering the pipeline.  \n",
        "3️⃣ **Reference Parameters** inside activities using `@pipeline().parameters.paramName`.  \n",
        "\n",
        "### **📌 Example Use Case**  \n",
        "A pipeline processes sales data, and the date is passed dynamically during the run.  \n"
      ],
      "metadata": {
        "id": "bgmrxMS3gZds"
      }
    },
    {
      "cell_type": "code",
      "source": [],
      "metadata": {
        "id": "vv_nNaj1geBB"
      },
      "execution_count": null,
      "outputs": []
    },
    {
      "cell_type": "markdown",
      "source": [
        "## **22). Can an Activity Output Property Be Consumed in Another Activity?**  \n",
        "\n",
        "✅ **Yes**, an activity’s output can be used as an input in another activity using **dynamic expressions** in Azure Data Factory.  \n",
        "\n",
        "## **🔹 How It Works?**  \n",
        "1️⃣ **Enable Output Logging** in the first activity.  \n",
        "2️⃣ **Reference Output** in the next activity using `@activity('ActivityName').output` notation.  \n",
        "\n",
        "### **📌 Example Use Case**  \n",
        "A **Lookup** activity retrieves the latest sales date, and a **Copy** activity uses that date to filter sales data.  \n",
        "\n",
        "\n"
      ],
      "metadata": {
        "id": "9Udg90C5gcsv"
      }
    },
    {
      "cell_type": "code",
      "source": [],
      "metadata": {
        "id": "GD6IDu9Dg8K3"
      },
      "execution_count": null,
      "outputs": []
    },
    {
      "cell_type": "markdown",
      "source": [
        "## **23). How to Gracefully Handle Null Values in an Activity Output?**  \n",
        "\n",
        "✅ **Azure Data Factory** provides functions to handle **null values** to prevent failures in expressions or downstream activities.  \n",
        "\n",
        "## **🔹 Methods to Handle Null Values**  \n",
        "\n",
        "### **1️⃣ Use `coalesce()` Function**  \n",
        "Returns the first non-null value from the provided arguments.  \n",
        "\n",
        "**Example:**  \n",
        "```json\n",
        "\"@coalesce(activity('GetData').output.firstRow.sales, 0)\"\n"
      ],
      "metadata": {
        "id": "9OpXWH90g8or"
      }
    },
    {
      "cell_type": "code",
      "source": [],
      "metadata": {
        "id": "Ygdg-oOlhIR1"
      },
      "execution_count": null,
      "outputs": []
    },
    {
      "cell_type": "markdown",
      "source": [
        "## **24).Which Data Factory Version Supports Data Flows?**  \n",
        "\n",
        "✅ **Azure Data Factory (ADF) V2** is required to create and use **Mapping Data Flows** and **Wrangling Data Flows**.  \n",
        "❌ ADF V1 does **not** support data flows.  \n",
        "\n",
        "### 🔹 Why ADF V2?  \n",
        "- Provides a **visual interface** for designing ETL processes.  \n",
        "- Supports **code-free transformations** with **Mapping Data Flows**.  \n",
        "- Integrates with **Azure Databricks** for data wrangling.  \n",
        "- Allows **parameterization** and **dynamic expressions** for flexible data processing.  \n",
        "\n",
        "🚀 **Conclusion:** Use **ADF V2** to leverage advanced **data transformation capabilities** without writing complex code.\n"
      ],
      "metadata": {
        "id": "ldBYWOGFhJ9O"
      }
    },
    {
      "cell_type": "code",
      "source": [],
      "metadata": {
        "id": "NARDeNrKhdRv"
      },
      "execution_count": null,
      "outputs": []
    },
    {
      "cell_type": "markdown",
      "source": [
        "## **25). Accessing Data Using the 80+ Dataset Types in Azure Data Factory**  \n",
        "\n",
        "Azure Data Factory (ADF) supports **80+ dataset types** across different data sources, including databases, file storage, and cloud services.  \n",
        "\n",
        "## **🔹 Steps to Access Data Using Different Dataset Types**  \n",
        "\n",
        "1️⃣ **Create a Linked Service**  \n",
        "   - Define the connection to your data source (e.g., Azure Blob Storage, SQL Server, Amazon S3).  \n",
        "\n",
        "2️⃣ **Define a Dataset**  \n",
        "   - Choose the dataset type that matches your source (e.g., CSV for Blob Storage, Table for SQL).  \n",
        "   - Configure properties like file path, schema, and format.  \n",
        "\n",
        "3️⃣ **Use Dataset in a Pipeline**  \n",
        "   - Create a pipeline and add activities like **Copy Data, Data Flow, or Lookup**.  \n",
        "   - Reference the dataset in these activities.  \n",
        "\n",
        "4️⃣ **Transform or Move Data**  \n",
        "   - Use **Mapping Data Flows** for transformations.  \n",
        "   - Use **Copy Activity** to transfer data between sources.  \n",
        "\n",
        "5️⃣ **Monitor and Debug**  \n",
        "   - Run the pipeline and check logs in **ADF Monitor** to troubleshoot any issues.  \n",
        "\n",
        "🚀 **Conclusion:** ADF provides **flexible dataset support**, enabling seamless integration with various data sources for **ETL and analytics**.\n"
      ],
      "metadata": {
        "id": "_H_g3OhRhduG"
      }
    },
    {
      "cell_type": "code",
      "source": [],
      "metadata": {
        "id": "CHL6Ydhbhqgx"
      },
      "execution_count": null,
      "outputs": []
    },
    {
      "cell_type": "markdown",
      "source": [
        "\n",
        "## **26).Two Levels of Security in Azure Data Lake Storage (ADLS) Gen2**  \n",
        "\n",
        "Azure Data Lake Storage Gen2 enforces **two levels of security** to control access and protect data:  \n",
        "\n",
        "## **1️⃣ Role-Based Access Control (RBAC) - Azure IAM Security**  \n",
        "🔹 **Manages access at the storage account level** using **Azure Role-Based Access Control (RBAC)**.  \n",
        "🔹 Assigns roles to **users, groups, or applications** via **Azure IAM**.  \n",
        "🔹 Common roles:  \n",
        "   - **Storage Blob Data Owner** → Full control over data.  \n",
        "   - **Storage Blob Data Contributor** → Read/write access but no permission management.  \n",
        "   - **Storage Blob Data Reader** → Read-only access.  \n",
        "\n",
        "## **2️⃣ Access Control Lists (ACLs) - Granular File & Folder Permissions**  \n",
        "🔹 **Controls access at the directory and file level** using **POSIX-style ACLs**.  \n",
        "🔹 Provides **fine-grained permissions** for specific users or groups.  \n",
        "🔹 ACL permissions include:  \n",
        "   - **Read (r)** → View file contents.  \n",
        "   - **Write (w)** → Modify or create files.  \n",
        "   - **Execute (x)** → Traverse directories or run scripts.  \n",
        "\n",
        "### **Key Differences:**  \n",
        "✔ **RBAC** controls **who** can access the storage account.  \n",
        "✔ **ACLs** define **what** users can do within specific files and folders.  \n",
        "\n",
        "🚀 **Best Practice:** Use **RBAC for broad access control** and **ACLs for fine-grained permissions** to enhance security and flexibility.  \n",
        "```"
      ],
      "metadata": {
        "id": "UPRd9npOhrCk"
      }
    },
    {
      "cell_type": "code",
      "source": [],
      "metadata": {
        "id": "f89l3vNoh3z3"
      },
      "execution_count": null,
      "outputs": []
    },
    {
      "cell_type": "markdown",
      "source": [
        "\n",
        "## 27). Difference Between Dataset and Linked Service in Azure Data Factory  \n",
        "\n",
        "## **1️⃣ Linked Service**  \n",
        "- Defines **connection details** to a data source.  \n",
        "- Stores credentials like **server name, authentication method, and connection string**.  \n",
        "- Example: Connecting to an **Azure SQL Database or Blob Storage**.  \n",
        "\n",
        "## **2️⃣ Dataset**  \n",
        "- Represents **a specific data structure** within a linked service.  \n",
        "- Defines **tables, file paths, schemas, and formats**.  \n",
        "- Example: A dataset pointing to a **specific table in Azure SQL Database** or a **CSV file in Blob Storage**.  \n",
        "\n",
        "## **🛠 Key Difference**  \n",
        "- **Linked Service** → Defines **how** to connect.  \n",
        "- **Dataset** → Specifies **what** data to access.  \n",
        "\n",
        "## 🚀 **Example in Retail:**  \n",
        "A **Linked Service** connects to an **Azure Blob Storage** container.  \n",
        "A **Dataset** points to a specific **sales transactions CSV file** inside that container.  \n",
        "```"
      ],
      "metadata": {
        "id": "5NmogiXXh4Ro"
      }
    },
    {
      "cell_type": "code",
      "source": [],
      "metadata": {
        "id": "EN7fo__kh_vY"
      },
      "execution_count": null,
      "outputs": []
    },
    {
      "cell_type": "markdown",
      "source": [
        "\n",
        "##28). Two Types of Computing Environments in Azure Data Factory  \n",
        "\n",
        "Azure Data Factory supports two computing environments for executing **transformation activities**:\n",
        "\n",
        "## **1️⃣ Azure Data Factory Integration Runtime (IR)**  \n",
        "- Used for **Data Flow transformations**.  \n",
        "- Runs on **Azure-managed Spark clusters** for scalable processing.  \n",
        "- Ideal for **big data transformations, aggregations, and filtering**.  \n",
        "\n",
        "## **2️⃣ External Compute Services**  \n",
        "- Uses external **compute engines** for transformations.  \n",
        "- Examples: **Azure Databricks, Azure HDInsight, SQL Server, Stored Procedures**.  \n",
        "- Ideal for **custom processing, machine learning, and complex transformations**.  \n",
        "\n",
        "🚀 **Key Takeaway:**  \n",
        "- **Integration Runtime** → For built-in ADF transformations.  \n",
        "- **External Compute Services** → For leveraging external processing power.  \n",
        "```"
      ],
      "metadata": {
        "id": "bimP3ZiCiAaU"
      }
    },
    {
      "cell_type": "code",
      "source": [],
      "metadata": {
        "id": "gjSFvyW3iEMr"
      },
      "execution_count": null,
      "outputs": []
    },
    {
      "cell_type": "markdown",
      "source": [
        "\n",
        "## 29). Azure SSIS Integration Runtime (Azure SSIS IR)  \n",
        "\n",
        "Azure SSIS Integration Runtime (IR) is a **fully managed** cloud-based execution environment in **Azure Data Factory** for running **SQL Server Integration Services (SSIS) packages**.\n",
        "\n",
        "## **✅ Key Features**  \n",
        "- Executes **ETL workflows** built in **SSIS** within Azure.  \n",
        "- Supports **data movement, transformations, and data integration** tasks.  \n",
        "- Enables **lift-and-shift** of existing **on-premises SSIS packages** to the cloud **without major modifications**.  \n",
        "- Integrates with **Azure SQL Database, Azure Synapse Analytics, and other cloud services**.  \n",
        "- Provides **scalability**, **auto-scaling**, and **high availability** for SSIS workloads.  \n",
        "\n",
        "## **🚀 Use Case in Retail**  \n",
        "A retail company **migrates SSIS ETL jobs** from an **on-prem SQL Server** to **Azure SSIS IR**, ensuring seamless data integration between its **sales, inventory, and customer data systems**.  \n",
        "```"
      ],
      "metadata": {
        "id": "ZQu-ZVYbiEo4"
      }
    },
    {
      "cell_type": "code",
      "source": [],
      "metadata": {
        "id": "A-J0aeNyiHZL"
      },
      "execution_count": null,
      "outputs": []
    },
    {
      "cell_type": "markdown",
      "source": [
        "\n",
        "##30). Executing an SSIS Package in Azure Data Factory (ADF)\n",
        "\n",
        "## 🔹 Prerequisites\n",
        "1. **Azure Subscription** – Required to create ADF & SSIS IR.  \n",
        "2. **Azure Data Factory (ADF)** – Instance to orchestrate execution.  \n",
        "3. **SSIS Integration Runtime (SSIS IR)** – Managed SSIS execution in Azure.  \n",
        "4. **SSISDB (Azure SQL DB / Managed Instance)** – Store & manage SSIS packages.  \n",
        "\n",
        "## 🚀 Steps to Execute SSIS Package  \n",
        "1️⃣ **Create SSIS IR in ADF**  \n",
        "   - Go to **Manage > Integration Runtimes** > **+ New** > **Azure-SSIS**.  \n",
        "   - Connect to **Azure SQL DB / Managed Instance** for SSISDB.  \n",
        "\n",
        "2️⃣ **Deploy SSIS Package**  \n",
        "   - Use **SSDT or SSMS** to deploy the package to **SSISDB**.  \n",
        "\n",
        "3️⃣ **Create & Configure ADF Pipeline**  \n",
        "   - Add **\"Execute SSIS Package\"** activity.  \n",
        "   - Select **SSIS IR** & package path in **SSISDB**.  \n",
        "   - Configure parameters & logging.  \n",
        "\n",
        "4️⃣ **Trigger & Monitor Execution**  \n",
        "   - Run manually or via **ADF Trigger**.  \n",
        "   - Monitor logs in **ADF Monitor / SSISDB**.  \n",
        "\n",
        "## 🔍 Key Considerations\n",
        "✅ **SSIS IR must be running** before execution.  \n",
        "✅ **Ensure SSISDB permissions** for execution.  \n",
        "✅ **Monitor logs for troubleshooting.**  \n",
        "\n",
        "Need more details? Let me know! 🚀  \n",
        "```\n",
        "\n",
        "This version is **short and to the point** while covering the essentials. Let me know if you need further refinements! 😊"
      ],
      "metadata": {
        "id": "VAZGWg41iH88"
      }
    },
    {
      "cell_type": "code",
      "source": [],
      "metadata": {
        "id": "XgolgeBVihdm"
      },
      "execution_count": null,
      "outputs": []
    },
    {
      "cell_type": "markdown",
      "source": [
        "##31). How to Run an Azure Data Factory (ADF) Pipeline  \n",
        "\n",
        "There are **three ways** to run an **ADF pipeline**:  \n",
        "\n",
        "## 1️⃣ Manual Execution (Run it Yourself)  \n",
        "- Open **Azure Data Factory (ADF)**.  \n",
        "- Go to **Author > Pipelines**.  \n",
        "- Click **Debug** (for testing) or **Trigger Now** (to run immediately).  \n",
        "\n",
        "## 2️⃣ Automatic Execution (Triggers)  \n",
        "- **Schedule Trigger** – Runs at a set time (e.g., daily at 6 AM).  \n",
        "- **Event-Based Trigger** – Runs when a **new file is added or updated** in Blob Storage.  \n",
        "- **Tumbling Window Trigger** – Runs at fixed intervals (e.g., every hour).  \n",
        "\n",
        "## 3️⃣ Programmatic Execution (Code-Based)  \n",
        "- Use **Azure REST API** to start a pipeline.  \n",
        "- Run with **PowerShell**:  \n",
        "  ```powershell\n",
        "  Start-AzDataFactoryPipeline -ResourceGroupName \"MyRG\" -DataFactoryName \"MyADF\" -PipelineName \"MyPipeline\"\n"
      ],
      "metadata": {
        "id": "IRLvaTinih82"
      }
    },
    {
      "cell_type": "code",
      "source": [],
      "metadata": {
        "id": "I_Jil6_6irnh"
      },
      "execution_count": null,
      "outputs": []
    },
    {
      "cell_type": "markdown",
      "source": [
        "\n",
        "## 32). Copying Data from On-Premises SQL Server Using Azure Data Factory  \n",
        "\n",
        "To copy data from an **on-premises SQL Server** using **Azure Data Factory (ADF)**, use the **Self-Hosted Integration Runtime (SHIR)**.  \n",
        "\n",
        "---\n",
        "\n",
        "## 🔹 Why Use Self-Hosted Integration Runtime (SHIR)?  \n",
        "✅ **Access On-Premises Data** – Connects securely to **SQL Server, Oracle, SAP, etc.**  \n",
        "✅ **No VPN Required** – Uses an outbound HTTPS connection (no need for VPN or ExpressRoute).  \n",
        "✅ **Supports Data Movement & Transformation** – Runs copy operations and data flow transformations.  \n",
        "\n",
        "---\n",
        "\n",
        "## 🚀 Steps to Set Up SHIR for Copying Data  \n",
        "### 1️⃣ Install SHIR  \n",
        "- Download & install **Self-Hosted Integration Runtime** on an **on-premises server**.  \n",
        "- Register it with **Azure Data Factory**.  \n",
        "\n",
        "### 2️⃣ Create a Linked Service in ADF  \n",
        "- Configure **On-Prem SQL Server** as a **Linked Service**.  \n",
        "- Choose **Self-Hosted Integration Runtime** as the runtime.  \n",
        "\n",
        "### 3️⃣ Create a Copy Data Activity  \n",
        "- In ADF Pipeline, add **Copy Data** activity.  \n",
        "- Set **on-prem SQL Server** as the source and choose **Azure Storage/Azure SQL DB** as the destination.  \n",
        "\n",
        "### 4️⃣ Test & Run  \n",
        "- Validate the connection.  \n",
        "- Trigger the pipeline to **copy data** securely.  \n",
        "\n",
        "---\n",
        "\n",
        "## 🔍 Key Considerations  \n",
        "✅ **SHIR must be installed on a machine with network access to SQL Server.**  \n",
        "✅ **Use Windows Authentication or SQL Authentication for secure connections.**  \n",
        "✅ **Ensure firewall and network settings allow outbound connections to Azure.**  \n",
        "\n",
        "Would you like a **step-by-step guide** for setting up SHIR? 🚀  \n",
        "```  \n",
        "\n",
        "This version is **clean, well-structured, and easy to read**. Let me know if you need any modifications! 😊"
      ],
      "metadata": {
        "id": "AvbuvmTJir_0"
      }
    },
    {
      "cell_type": "code",
      "source": [],
      "metadata": {
        "id": "zr9h7OMhi5dG"
      },
      "execution_count": null,
      "outputs": []
    },
    {
      "cell_type": "markdown",
      "source": [
        "\n",
        "##33). Azure Table Storage  \n",
        "\n",
        "## 🔹 What is Azure Table Storage?  \n",
        "Azure Table Storage is a **NoSQL key-value store** that lets you store **structured data** in the cloud. It is **fast, scalable, and cost-effective**, ideal for handling large amounts of data without complex relationships.  \n",
        "\n",
        "---\n",
        "\n",
        "## ✅ Key Features  \n",
        "- **NoSQL storage** – Flexible, schema-less data model.  \n",
        "- **Highly scalable** – Stores **terabytes** of data efficiently.  \n",
        "- **Fast & cost-effective** – Optimized for quick lookups.  \n",
        "- **Secure & reliable** – Supports **RBAC, SAS tokens, and geo-redundancy**.  \n",
        "\n",
        "---\n",
        "\n",
        "## 📌 Data Model  \n",
        "- **Table** – A collection of data (like a SQL table but more flexible).  \n",
        "- **Entity** – A single row in a table.  \n",
        "- **Properties** – Data fields in an entity (key-value pairs).  \n",
        "- **PartitionKey** – Groups related data for faster queries.  \n",
        "- **RowKey** – A unique ID for each row.  \n",
        "\n",
        "---\n",
        "\n",
        "## 🔍 When to Use It?  \n",
        "✅ **Log data storage** – Store app logs or IoT data.  \n",
        "✅ **User profiles** – Quick access to user info.  \n",
        "✅ **Metadata storage** – Save app settings and configurations.  \n",
        "✅ **Large-scale NoSQL apps** – When you need fast, scalable storage.  \n",
        "\n",
        "---\n",
        "\n",
        "## 🚀 How to Access It?  \n",
        "- **Azure Storage Explorer**  \n",
        "- **Azure SDKs (.NET, Python, Java, etc.)**  \n",
        "- **REST APIs**  \n",
        "\n"
      ],
      "metadata": {
        "id": "gfTdSSn4i594"
      }
    },
    {
      "cell_type": "code",
      "source": [],
      "metadata": {
        "id": "qIrQ89pGjF-4"
      },
      "execution_count": null,
      "outputs": []
    },
    {
      "cell_type": "markdown",
      "source": [
        "\n",
        "##34). Monitoring & Managing ADF Pipelines  \n",
        "\n",
        "Yes! Azure Data Factory allows efficient **monitoring and management** of pipelines.  \n",
        "\n",
        "## 📊 **Monitoring ADF Pipelines**  \n",
        "✔ **Monitor Tab (ADF UI)** – Track runs, check status, and rerun failures.  \n",
        "✔ **Azure Monitor & Log Analytics** – Store logs, analyze with KQL.  \n",
        "✔ **Alerts & Notifications** – Get email/SMS alerts for failures.  \n",
        "\n",
        "## ⚙️ **Managing ADF Pipelines**  \n",
        "✔ **Stop & Restart** – Cancel or rerun pipelines.  \n",
        "✔ **Triggers & Scheduling** – Automate execution (Daily, Event-based).  \n",
        "✔ **Debugging** – Test in Debug mode before deployment.  \n",
        "✔ **Version Control** – Track changes using GitHub/Azure DevOps.  \n",
        "\n",
        "🔥 **Quick Interview Answer**  \n",
        "*\"Yes, ADF provides monitoring via **Monitor Tab, Log Analytics, and Alerts**. Pipelines can be **stopped, restarted, debugged, and scheduled** for automation.\"* 🚀  \n",
        "```"
      ],
      "metadata": {
        "id": "O-HV-vX_jGgw"
      }
    },
    {
      "cell_type": "code",
      "source": [],
      "metadata": {
        "id": "-0nBepS-jM1g"
      },
      "execution_count": null,
      "outputs": []
    },
    {
      "cell_type": "markdown",
      "source": [],
      "metadata": {
        "id": "3lbAwV59jQGb"
      }
    },
    {
      "cell_type": "markdown",
      "source": [
        "##35). Steps in the ETL Process  \n",
        "\n",
        "ETL (**Extract, Transform, Load**) is a process used to move and process data efficiently.  \n",
        "\n",
        "## 1️⃣ **Extract (E) – Data Collection**  \n",
        "- Retrieve data from **databases, APIs, files, cloud storage, etc.**  \n",
        "- Handle **structured, semi-structured, and unstructured data**.  \n",
        "\n",
        "## 2️⃣ **Transform (T) – Data Processing**  \n",
        "- **Cleaning** – Remove duplicates, handle missing values.  \n",
        "- **Formatting** – Convert data types, standardize formats.  \n",
        "- **Enrichment** – Apply business rules, add computed fields.  \n",
        "- **Aggregation** – Summarize data (e.g., total sales per month).  \n",
        "\n",
        "## 3️⃣ **Load (L) – Data Storage**  \n",
        "- Store the transformed data into a **Data Warehouse, Data Lake, or Database**.  \n",
        "- Load can be **batch-based (scheduled) or real-time (streaming)**.  \n",
        "\n",
        "---\n",
        "\n",
        "## 🔥 **Quick Interview Answer**  \n",
        "*\"ETL consists of **Extracting data from sources, Transforming it for consistency, and Loading it into a target system**. This ensures clean, structured, and useful data for analysis.\"* 🚀  "
      ],
      "metadata": {
        "id": "k7wzKLEGjqTn"
      }
    },
    {
      "cell_type": "code",
      "source": [],
      "metadata": {
        "id": "lLd2-mV3jsAE"
      },
      "execution_count": null,
      "outputs": []
    },
    {
      "cell_type": "markdown",
      "source": [
        "#**FAQs Related to Azure Data Factory**"
      ],
      "metadata": {
        "id": "lE8xtFlZjth4"
      }
    },
    {
      "cell_type": "markdown",
      "source": [
        "FAQs Related to Azure Data Factory"
      ],
      "metadata": {
        "id": "eWMx5V36jaIm"
      }
    },
    {
      "cell_type": "markdown",
      "source": [
        "\n",
        "##36). Is Coding Required for Azure Data Factory?  \n",
        "\n",
        "No, **coding is not mandatory** in Azure Data Factory (ADF), but **basic scripting knowledge** can enhance functionality.  \n",
        "\n",
        "## ✅ **No-Code / Low-Code Features**  \n",
        "✔ **Drag-and-Drop UI** – Build pipelines without coding.  \n",
        "✔ **Built-in Connectors** – Easily connect to **SQL, Blob Storage, APIs, etc.**  \n",
        "✔ **Data Flow** – Perform transformations visually.  \n",
        "\n",
        "## 🔥 **When is Coding Needed?**  \n",
        "✔ **Data Transformations** – Use **Azure Data Flow (low-code)** or **Databricks, SQL, PySpark** for complex logic.  \n",
        "✔ **Custom Activities** – Run **Python, .NET, or PowerShell** scripts.  \n",
        "✔ **Expression Language** – Write **dynamic expressions** for parameters.  \n",
        "\n",
        "---\n",
        "\n",
        "## 📝 **Quick Interview Answer**  \n",
        "*\"No, ADF provides a **low-code UI** for building pipelines, but scripting in **SQL, Python, or PowerShell** helps with advanced transformations and automation.\"* 🚀  \n",
        "```"
      ],
      "metadata": {
        "id": "4snMMrV4kUM2"
      }
    },
    {
      "cell_type": "code",
      "source": [],
      "metadata": {
        "id": "TI68kRRek1uD"
      },
      "execution_count": null,
      "outputs": []
    },
    {
      "cell_type": "markdown",
      "source": [
        "##37). Is Azure Data Factory an ETL Tool?  \n",
        "\n",
        "✅ **Yes, Azure Data Factory (ADF) is an ETL tool**, but it also supports **ELT** (Extract, Load, Transform).  \n",
        "\n",
        "## 🔹 **Why ADF is an ETL Tool?**  \n",
        "✔ **Extract** – Connects to various **databases, APIs, storage services**.  \n",
        "✔ **Transform** – Uses **Data Flows, Databricks, SQL, and Python** for processing.  \n",
        "✔ **Load** – Stores data in **Data Warehouses, Data Lakes, or Databases**.  \n",
        "\n",
        "## 🔹 **ADF as an ELT Tool**  \n",
        "✔ Loads raw data into **Azure Synapse or SQL DB** before transformation.  \n",
        "✔ Uses **T-SQL, stored procedures, or Spark** for transformations.  \n",
        "\n",
        "---\n",
        "\n",
        "## 📝 **Quick Interview Answer**  \n",
        "*\"Yes, Azure Data Factory is a **cloud-based ETL and ELT tool** that extracts, transforms, and loads data across different sources, supporting both **batch and real-time processing**.\"* 🚀  \n"
      ],
      "metadata": {
        "id": "ozGCS5Cuk0v3"
      }
    },
    {
      "cell_type": "code",
      "source": [],
      "metadata": {
        "id": "Aeezoq0Xk95d"
      },
      "execution_count": null,
      "outputs": []
    },
    {
      "cell_type": "markdown",
      "source": [
        "##38). Is Azure Data Factory Certification Worth It?  \n",
        "\n",
        "✅ **Yes, getting certified in Azure Data Factory (ADF) is valuable**, especially for **Data Engineers, ETL Developers, and Cloud Professionals**.  \n",
        "\n",
        "## 🔹 **Why Should You Get Certified?**  \n",
        "✔ **Career Growth** – Increases job opportunities in **Data Engineering & Cloud roles**.  \n",
        "✔ **Industry Recognition** – Demonstrates **expertise in ADF & Azure services**.  \n",
        "✔ **Higher Salary Potential** – Certified professionals earn **better salaries**.  \n",
        "✔ **Hands-on Knowledge** – Learn **ADF, Data Pipelines, and Integration Runtime**.  \n",
        "\n",
        "## 🔹 **Recommended Certification**  \n",
        "🎯 **DP-203: Azure Data Engineer Associate**  \n",
        "- Covers **ADF, Data Lake, Databricks, Synapse, and ETL/ELT**.  \n",
        "\n",
        "---\n",
        "\n",
        "## 📝 **Quick Interview Answer**  \n",
        "*\"Yes, Azure Data Factory certification is worth it as it helps in **career growth, industry recognition, and hands-on expertise** in **cloud-based data engineering**.\"* 🚀  \n"
      ],
      "metadata": {
        "id": "Z3r5qERZk-WP"
      }
    },
    {
      "cell_type": "code",
      "source": [],
      "metadata": {
        "id": "Lw8oLsA4lEEh"
      },
      "execution_count": null,
      "outputs": []
    },
    {
      "cell_type": "markdown",
      "source": [
        "##39). Can We Replace Synapse Pipelines with Talend or SSIS?  \n",
        "\n",
        "✅ **Yes, we can replace Synapse Pipelines with Talend, SSIS, or Azure Data Factory (ADF)**, but the best choice depends on the use case.  \n",
        "\n",
        "## 🔹 **Choosing the Right ETL Tool**  \n",
        "\n",
        "| Tool              | Best For |\n",
        "|------------------|----------|\n",
        "| **Synapse Pipelines** 🚀 | Big data & cloud-based ETL |\n",
        "| **Talend** 🔧 | Open-source ETL with cloud & on-prem support |\n",
        "| **SSIS** 🏗️ | On-premise SQL Server ETL |\n",
        "| **Azure Data Factory (ADF)** ☁️ | Scalable, cloud-based ETL |\n",
        "\n",
        "## 🔹 **When to Use an Alternative?**  \n",
        "✔ **Use Talend** if you need **open-source ETL** that works both on-premise and in the cloud.  \n",
        "✔ **Use SSIS** if your ETL is **tightly integrated with SQL Server and runs on-premise**.  \n",
        "✔ **Use ADF** if you want a **fully cloud-based, scalable ETL solution**.  \n",
        "\n",
        "---\n",
        "\n",
        "## 📝 **Quick Interview Answer**  \n",
        "*\"Yes, we can replace **Synapse Pipelines** with **Talend, SSIS, or ADF**, depending on the requirements. **Talend** is good for hybrid ETL, **SSIS** for on-premise, and **ADF** for cloud-based ETL.\"* 🚀  \n"
      ],
      "metadata": {
        "id": "wo9-AtL3lEeW"
      }
    },
    {
      "cell_type": "code",
      "source": [],
      "metadata": {
        "id": "MH6gtw7PlI8k"
      },
      "execution_count": null,
      "outputs": []
    },
    {
      "cell_type": "markdown",
      "source": [
        "##40). Can ETL Only Be Done Using Azure Data Factory or Synapse Pipelines?  \n",
        "\n",
        "❌ **No, ETL is not limited to Azure Data Factory (ADF) or Synapse Pipelines**. Many ETL tools are available in the market, including:  \n",
        "\n",
        "### ✅ **Alternative ETL Tools**  \n",
        "✔ **Talend** – Open-source & hybrid ETL support.  \n",
        "✔ **SSIS (SQL Server Integration Services)** – Best for on-premise SQL Server ETL.  \n",
        "✔ **Informatica** – Enterprise-grade ETL with advanced transformations.  \n",
        "✔ **Databricks** – Best for big data ETL using Apache Spark.  \n",
        "✔ **AWS Glue** – Cloud ETL for AWS-based workloads.  \n",
        "\n",
        "### 🔹 **When to Choose Other ETL Tools?**  \n",
        "✔ **Big Data Processing?** → Use **Databricks**.  \n",
        "✔ **SQL Server Integration?** → Use **SSIS**.  \n",
        "✔ **Multi-Cloud Support?** → Use **Talend** or **Informatica**.  \n",
        "✔ **AWS Workloads?** → Use **AWS Glue**.  \n",
        "\n",
        "### 🔥 **Final Answer:**  \n",
        "Azure Data Factory and Synapse Pipelines are **powerful ETL tools**, but **many other options** exist based on requirements, cost, and infrastructure.  \n",
        "\n",
        "---\n",
        "\n",
        "## 📝 **Quick Interview Answer:**  \n",
        "*\"No, ETL can be done using various tools like **Talend, SSIS, Informatica, and Databricks**, depending on the data size, cloud/on-prem requirements, and transformation needs.\"* 🚀  \n"
      ],
      "metadata": {
        "id": "kgzvwLj-lJn2"
      }
    },
    {
      "cell_type": "code",
      "source": [],
      "metadata": {
        "id": "BIH_kL2PlPsS"
      },
      "execution_count": null,
      "outputs": []
    },
    {
      "cell_type": "markdown",
      "source": [
        "##41). Should ETL Always Be Done Using ADF or Synapse Pipelines?  \n",
        "\n",
        "✅ **No, ETL can be done using various tools, not just ADF or Synapse Pipelines.** The choice depends on business needs, data volume, cost, and integration requirements.  \n",
        "\n",
        "## 🔹 **Other ETL Tools in the Market:**  \n",
        "✔ **Talend** – Open-source, supports cloud and on-premises ETL.  \n",
        "✔ **Informatica** – Enterprise-grade, with strong data governance features.  \n",
        "✔ **SSIS (SQL Server Integration Services)** – Best for Microsoft environments.  \n",
        "✔ **Apache NiFi** – Ideal for real-time streaming data.  \n",
        "✔ **dbt (Data Build Tool)** – Focuses on **ELT (Extract, Load, Transform)** for modern data warehouses.  \n",
        "\n",
        "## 📌 **Example Answer for Interviews:**  \n",
        "*\"ETL is not limited to ADF or Synapse. We can use **Talend, Informatica, SSIS, or Apache NiFi**, depending on the business needs, scalability, and cost.\"*  \n"
      ],
      "metadata": {
        "id": "ZFqfoi4nlQKn"
      }
    },
    {
      "cell_type": "code",
      "source": [],
      "metadata": {
        "id": "U4cqWbepl-kv"
      },
      "execution_count": null,
      "outputs": []
    },
    {
      "cell_type": "markdown",
      "source": [
        "##42). ADF vs. Synapse Pipelines – Which One to Choose?  \n",
        "\n",
        "✅ **Both ADF and Synapse Pipelines offer ETL/ELT capabilities**, but the choice depends on the use case.  \n",
        "\n",
        "## 🔹 **When to Use Azure Data Factory (ADF)?**  \n",
        "✔ **Best for Data Movement & Orchestration** – Ideal for integrating multiple data sources.  \n",
        "✔ **Wide Connectivity** – Supports **on-premises, cloud, and third-party data sources**.  \n",
        "✔ **Standalone Service** – Can work independently, outside of Synapse Analytics.  \n",
        "✔ **Cost-Effective for ETL** – Pay-as-you-go model for data movement and transformations.  \n",
        "\n",
        "## 🔹 **When to Use Synapse Pipelines?**  \n",
        "✔ **Best for Data Warehousing Workloads** – Works **inside Azure Synapse Analytics** for seamless data integration.  \n",
        "✔ **Optimized for Big Data Processing** – Tight integration with **Synapse SQL & Spark**.  \n",
        "✔ **Unified Analytics Platform** – Combines **ETL, analytics, and reporting** in one environment.  \n",
        "✔ **Ideal for Large-Scale Data Transformations** – Works well with **big data and analytics workloads**.  \n",
        "\n",
        "## 📌 **Example Answer for Interviews:**  \n",
        "*\"If the goal is **data movement, orchestration, and broad integration**, ADF is the best choice. If the focus is **big data analytics, transformations, and integration within Synapse**, then Synapse Pipelines are ideal.\"*  \n"
      ],
      "metadata": {
        "id": "OE4uImzVl_NT"
      }
    },
    {
      "cell_type": "code",
      "source": [],
      "metadata": {
        "id": "Fx-s4dlqmKir"
      },
      "execution_count": null,
      "outputs": []
    },
    {
      "cell_type": "markdown",
      "source": [
        "##43).What is Data Flow Debug in Azure Data Factory?  \n",
        "\n",
        "✅ **Data Flow Debug** is a feature in **Mapping Data Flows** that allows you to **test, troubleshoot, and preview data transformations** before running the full pipeline.  \n",
        "\n",
        "## 🔹 **Why Use Data Flow Debug?**  \n",
        "✔ **Instant Data Preview** – See how data transforms at each step.  \n",
        "✔ **Faster Debugging** – Identify issues before full execution.  \n",
        "✔ **Optimized Performance** – Uses a temporary cluster for quick testing.  \n",
        "\n",
        "## 🔹 **How to Enable It?**  \n",
        "1️⃣ Open **Mapping Data Flow** in ADF.  \n",
        "2️⃣ Click **Debug** (top-right corner).  \n",
        "3️⃣ Data Flow Debug session starts, allowing real-time testing.  \n",
        "\n",
        "---\n",
        "\n",
        "## 📝 **Quick Interview Answer:**  \n",
        "*\"Data Flow Debug in ADF lets me test and preview transformations before full execution, helping in **quick debugging** and **efficient troubleshooting**.\"* 🚀  \n"
      ],
      "metadata": {
        "id": "-t-W9rjkmLH8"
      }
    },
    {
      "cell_type": "markdown",
      "source": [],
      "metadata": {
        "id": "VsOr3JI5mLAn"
      }
    },
    {
      "cell_type": "code",
      "source": [],
      "metadata": {
        "id": "RluwUrYumSTY"
      },
      "execution_count": null,
      "outputs": []
    },
    {
      "cell_type": "markdown",
      "source": [
        "##44). Can Azure Data Factory (ADF) Run 24x7 Jobs?  \n",
        "\n",
        "✅ **Yes, ADF can run 24x7 jobs**, but it is **not designed** for real-time, always-on processing like a streaming service.  \n",
        "\n",
        "## 🔹 **How to Run 24x7 Jobs in ADF?**  \n",
        "✔ **Using Tumbling Window Triggers** – Automates execution at fixed intervals.  \n",
        "✔ **Using Event-Based Triggers** – Runs when new data arrives.  \n",
        "✔ **Looping in Pipelines** – Use **Until Activity** or **Trigger Chaining**.  \n",
        "✔ **Azure Logic Apps & Functions** – Can help orchestrate continuous execution.  \n",
        "\n",
        "## 🔹 **Best Practices for 24x7 Workloads**  \n",
        "✔ **Monitor & Auto-Restart** failed runs.  \n",
        "✔ **Optimize Pipelines** to avoid unnecessary resource consumption.  \n",
        "✔ **Consider Azure Stream Analytics** for real-time needs.  \n",
        "\n",
        "---\n",
        "\n",
        "## 📝 **Quick Interview Answer:**  \n",
        "*\"Yes, ADF can run **24x7 jobs** using **triggers and looping mechanisms**, but for true real-time processing, tools like **Stream Analytics** are better.\"* 🚀  \n"
      ],
      "metadata": {
        "id": "gB1NyTI-mS5p"
      }
    },
    {
      "cell_type": "code",
      "source": [],
      "metadata": {
        "id": "kqZ4a0oBmfT0"
      },
      "execution_count": null,
      "outputs": []
    },
    {
      "cell_type": "markdown",
      "source": [
        "##45). Why Do We Need ADF If Databricks Can Handle Transformations?  \n",
        "\n",
        "✅ **Azure Databricks is great for big data processing, but ADF is needed for orchestration and data movement.**  \n",
        "\n",
        "## 🔹 **Key Differences & Why ADF is Important**  \n",
        "✔ **Orchestration & Scheduling** – ADF automates **data ingestion, transformation, and loading** across multiple services.  \n",
        "✔ **Data Movement** – ADF connects to **various sources (on-premises, cloud, databases, APIs, etc.)** and moves data efficiently.  \n",
        "✔ **Cost-Effective** – Running Databricks for orchestration is expensive; ADF helps **reduce Databricks cluster usage**.  \n",
        "✔ **Monitoring & Error Handling** – ADF provides **built-in logging, monitoring, and retry mechanisms** for pipeline failures.  \n",
        "✔ **Low-Code Interface** – ADF offers **a drag-and-drop UI**, making it easier to manage ETL workflows without extensive coding.  \n",
        "\n",
        "## 📌 **Example Answer for Interviews:**  \n",
        "*\"Databricks is excellent for **data transformation** using PySpark, but ADF is essential for **orchestration, scheduling, data movement, and monitoring** across multiple sources. They complement each other in ETL workflows.\"*  \n"
      ],
      "metadata": {
        "id": "MgiIJsIBmfuU"
      }
    },
    {
      "cell_type": "markdown",
      "source": [
        "##46). Are Linked Services Special Connectors for ADF to Source Data?  \n",
        "\n",
        "✅ **Yes, Linked Services in Azure Data Factory (ADF) act as connectors** that allow ADF to **connect to and interact with various data sources** like databases, cloud storage, APIs, and file systems.  \n",
        "\n",
        "## 🔹 **Key Functions of Linked Services**  \n",
        "✔ **Connection Information** – Stores authentication details like keys, credentials, and connection strings.  \n",
        "✔ **Data Source Integration** – Connects ADF to **on-premises and cloud data sources** (e.g., SQL Server, Azure Blob Storage, REST APIs).  \n",
        "✔ **Reusability** – A single Linked Service can be used by multiple datasets and activities in a pipeline.  \n",
        "\n",
        "## 📌 **Example Answer for Interviews:**  \n",
        "*\"Yes, Linked Services in ADF act as **connectors** to integrate with various data sources. They store connection details and enable pipelines to read and write data efficiently.\"*  \n"
      ],
      "metadata": {
        "id": "nUUjo5AXm5MO"
      }
    },
    {
      "cell_type": "code",
      "source": [],
      "metadata": {
        "id": "mgPpOzornKr8"
      },
      "execution_count": null,
      "outputs": []
    }
  ]
}