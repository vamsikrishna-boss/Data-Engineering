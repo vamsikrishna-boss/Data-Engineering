{
 "cells": [
  {
   "cell_type": "code",
   "execution_count": 0,
   "metadata": {
    "application/vnd.databricks.v1+cell": {
     "cellMetadata": {
      "byteLimit": 2048000,
      "rowLimit": 10000
     },
     "inputWidgets": {},
     "nuid": "232b0902-9ba2-422e-9aa8-ceae81673487",
     "showTitle": false,
     "tableResultSettingsMap": {},
     "title": ""
    }
   },
   "outputs": [
    {
     "output_type": "stream",
     "name": "stdout",
     "output_type": "stream",
     "text": [
      "Requirement already satisfied: azure-storage-blob in /databricks/python3/lib/python3.12/site-packages (12.23.0)\nRequirement already satisfied: azure-core>=1.30.0 in /databricks/python3/lib/python3.12/site-packages (from azure-storage-blob) (1.33.0)\nRequirement already satisfied: cryptography>=2.1.4 in /databricks/python3/lib/python3.12/site-packages (from azure-storage-blob) (42.0.5)\nRequirement already satisfied: typing-extensions>=4.6.0 in /databricks/python3/lib/python3.12/site-packages (from azure-storage-blob) (4.11.0)\nRequirement already satisfied: isodate>=0.6.1 in /databricks/python3/lib/python3.12/site-packages (from azure-storage-blob) (0.7.2)\nRequirement already satisfied: requests>=2.21.0 in /databricks/python3/lib/python3.12/site-packages (from azure-core>=1.30.0->azure-storage-blob) (2.32.2)\nRequirement already satisfied: six>=1.11.0 in /usr/lib/python3/dist-packages (from azure-core>=1.30.0->azure-storage-blob) (1.16.0)\nRequirement already satisfied: cffi>=1.12 in /databricks/python3/lib/python3.12/site-packages (from cryptography>=2.1.4->azure-storage-blob) (1.16.0)\nRequirement already satisfied: pycparser in /databricks/python3/lib/python3.12/site-packages (from cffi>=1.12->cryptography>=2.1.4->azure-storage-blob) (2.21)\nRequirement already satisfied: charset-normalizer<4,>=2 in /databricks/python3/lib/python3.12/site-packages (from requests>=2.21.0->azure-core>=1.30.0->azure-storage-blob) (2.0.4)\nRequirement already satisfied: idna<4,>=2.5 in /databricks/python3/lib/python3.12/site-packages (from requests>=2.21.0->azure-core>=1.30.0->azure-storage-blob) (3.7)\nRequirement already satisfied: urllib3<3,>=1.21.1 in /databricks/python3/lib/python3.12/site-packages (from requests>=2.21.0->azure-core>=1.30.0->azure-storage-blob) (2.2.2)\nRequirement already satisfied: certifi>=2017.4.17 in /databricks/python3/lib/python3.12/site-packages (from requests>=2.21.0->azure-core>=1.30.0->azure-storage-blob) (2024.6.2)\n\u001B[43mNote: you may need to restart the kernel using %restart_python or dbutils.library.restartPython() to use updated packages.\u001B[0m\n"
     ]
    }
   ],
   "source": [
    "pip install azure-storage-blob"
   ]
  },
  {
   "cell_type": "code",
   "execution_count": 0,
   "metadata": {
    "application/vnd.databricks.v1+cell": {
     "cellMetadata": {
      "byteLimit": 2048000,
      "rowLimit": 10000
     },
     "inputWidgets": {},
     "nuid": "fbc566dc-a5a2-4841-8ed4-61f80b78335f",
     "showTitle": false,
     "tableResultSettingsMap": {},
     "title": ""
    }
   },
   "outputs": [
    {
     "output_type": "stream",
     "name": "stdout",
     "output_type": "stream",
     "text": [
      "Requirement already satisfied: pandas in /databricks/python3/lib/python3.12/site-packages (1.5.3)\nRequirement already satisfied: openpyxl in /local_disk0/.ephemeral_nfs/envs/pythonEnv-7fdae197-7eb1-410a-bd55-fd5781fb52b2/lib/python3.12/site-packages (3.1.5)\nRequirement already satisfied: numpy>=1.21.0 in /databricks/python3/lib/python3.12/site-packages (from pandas) (1.26.4)\nRequirement already satisfied: python-dateutil>=2.8.1 in /databricks/python3/lib/python3.12/site-packages (from pandas) (2.9.0.post0)\nRequirement already satisfied: pytz>=2020.1 in /databricks/python3/lib/python3.12/site-packages (from pandas) (2024.1)\nRequirement already satisfied: et-xmlfile in /local_disk0/.ephemeral_nfs/envs/pythonEnv-7fdae197-7eb1-410a-bd55-fd5781fb52b2/lib/python3.12/site-packages (from openpyxl) (2.0.0)\nRequirement already satisfied: six>=1.5 in /usr/lib/python3/dist-packages (from python-dateutil>=2.8.1->pandas) (1.16.0)\n\u001B[43mNote: you may need to restart the kernel using %restart_python or dbutils.library.restartPython() to use updated packages.\u001B[0m\n"
     ]
    }
   ],
   "source": [
    "!pip install pandas openpyxl"
   ]
  },
  {
   "cell_type": "code",
   "execution_count": 0,
   "metadata": {
    "application/vnd.databricks.v1+cell": {
     "cellMetadata": {
      "byteLimit": 2048000,
      "rowLimit": 10000
     },
     "inputWidgets": {},
     "nuid": "9a727ab3-e627-4f85-a06e-d963bd125f0d",
     "showTitle": false,
     "tableResultSettingsMap": {},
     "title": ""
    }
   },
   "outputs": [
    {
     "output_type": "stream",
     "name": "stdout",
     "output_type": "stream",
     "text": [
      "bronze\ndestination\ngold\nlogs\nsilver\nsource\n"
     ]
    }
   ],
   "source": [
    "from azure.storage.blob import BlobServiceClient\n",
    "# storage_account_name=\"insurancedataset2025\"\n",
    "# storage_account_key=\"eIOZmD5913OT0f5DqbBQBKiu+ghZwqAPvt2s+7wYAcRZTdvjUcTGLyYODcYNxG9WL9pg1+tZB4ht+ASte4zRLg==\"\n",
    "connection_string=\"DefaultEndpointsProtocol=https;AccountName=insurancedataset2025;AccountKey=eIOZmD5913OT0f5DqbBQBKiu+ghZwqAPvt2s+7wYAcRZTdvjUcTGLyYODcYNxG9WL9pg1+tZB4ht+ASte4zRLg==;EndpointSuffix=core.windows.net\"\n",
    "blob_service_client = BlobServiceClient.from_connection_string(connection_string)\n",
    "for i in blob_service_client.list_containers():\n",
    "  print(i.name)\n"
   ]
  },
  {
   "cell_type": "code",
   "execution_count": 0,
   "metadata": {
    "application/vnd.databricks.v1+cell": {
     "cellMetadata": {
      "byteLimit": 2048000,
      "rowLimit": 10000
     },
     "inputWidgets": {},
     "nuid": "ee0e18ea-ed5c-4727-8c9b-8925491ea418",
     "showTitle": false,
     "tableResultSettingsMap": {},
     "title": ""
    }
   },
   "outputs": [
    {
     "output_type": "stream",
     "name": "stdout",
     "output_type": "stream",
     "text": [
      "already exists\nalready exists\nalready exists\nalready exists\n"
     ]
    }
   ],
   "source": [
    "new_containers=[\"bronze\",\"silver\",\"gold\",'logs']\n",
    "for i in new_containers:\n",
    "    try :\n",
    "        blob_service_client.create_container(i)\n",
    "        print(i)\n",
    "    except:\n",
    "        print(\"already exists\")"
   ]
  },
  {
   "cell_type": "code",
   "execution_count": 0,
   "metadata": {
    "application/vnd.databricks.v1+cell": {
     "cellMetadata": {
      "byteLimit": 2048000,
      "rowLimit": 10000
     },
     "inputWidgets": {},
     "nuid": "29ec12d7-0387-4d51-9dfa-47e20e10c05f",
     "showTitle": false,
     "tableResultSettingsMap": {},
     "title": ""
    }
   },
   "outputs": [
    {
     "output_type": "stream",
     "name": "stdout",
     "output_type": "stream",
     "text": [
      "Retail Dataset.csv\nSample - Superstore (2).csv\nSample - Superstore1.csv\nsample_submission.csv\nstore.csv\ntest.csv\ntrain.csv\n"
     ]
    }
   ],
   "source": [
    "container_name='source'\n",
    "container_client=blob_service_client.get_container_client(container_name)\n",
    "for i in container_client.list_blobs():\n",
    "  print(i.name)"
   ]
  },
  {
   "cell_type": "code",
   "execution_count": 0,
   "metadata": {
    "application/vnd.databricks.v1+cell": {
     "cellMetadata": {
      "byteLimit": 2048000,
      "rowLimit": 10000
     },
     "inputWidgets": {},
     "nuid": "5e00851c-e1af-453c-a316-f23a72956684",
     "showTitle": false,
     "tableResultSettingsMap": {},
     "title": ""
    }
   },
   "outputs": [
    {
     "output_type": "execute_result",
     "data": {
      "text/html": [
       "<div>\n",
       "<style scoped>\n",
       "    .dataframe tbody tr th:only-of-type {\n",
       "        vertical-align: middle;\n",
       "    }\n",
       "\n",
       "    .dataframe tbody tr th {\n",
       "        vertical-align: top;\n",
       "    }\n",
       "\n",
       "    .dataframe thead th {\n",
       "        text-align: right;\n",
       "    }\n",
       "</style>\n",
       "<table border=\"1\" class=\"dataframe\">\n",
       "  <thead>\n",
       "    <tr style=\"text-align: right;\">\n",
       "      <th></th>\n",
       "      <th>Row ID</th>\n",
       "      <th>Order ID</th>\n",
       "      <th>Order Date</th>\n",
       "      <th>Ship Date</th>\n",
       "      <th>Ship Mode</th>\n",
       "      <th>Customer ID</th>\n",
       "      <th>Customer Name</th>\n",
       "      <th>Segment</th>\n",
       "      <th>Country</th>\n",
       "      <th>City</th>\n",
       "      <th>State</th>\n",
       "      <th>Postal Code</th>\n",
       "      <th>Region</th>\n",
       "      <th>Product ID</th>\n",
       "      <th>Category</th>\n",
       "      <th>Sub-Category</th>\n",
       "      <th>Product Name</th>\n",
       "      <th>Sales</th>\n",
       "      <th>Quantity</th>\n",
       "      <th>Discount</th>\n",
       "      <th>Profit</th>\n",
       "    </tr>\n",
       "  </thead>\n",
       "  <tbody>\n",
       "    <tr>\n",
       "      <th>0</th>\n",
       "      <td>1</td>\n",
       "      <td>CA-2016-152156</td>\n",
       "      <td>11/8/2016</td>\n",
       "      <td>11/11/2016</td>\n",
       "      <td>Second Class</td>\n",
       "      <td>CG-12520</td>\n",
       "      <td>Claire Gute</td>\n",
       "      <td>Consumer</td>\n",
       "      <td>United States</td>\n",
       "      <td>Henderson</td>\n",
       "      <td>Kentucky</td>\n",
       "      <td>42420</td>\n",
       "      <td>South</td>\n",
       "      <td>FUR-BO-10001798</td>\n",
       "      <td>Furniture</td>\n",
       "      <td>Bookcases</td>\n",
       "      <td>Bush Somerset Collection Bookcase</td>\n",
       "      <td>261.9600</td>\n",
       "      <td>2</td>\n",
       "      <td>0.00</td>\n",
       "      <td>41.9136</td>\n",
       "    </tr>\n",
       "    <tr>\n",
       "      <th>1</th>\n",
       "      <td>2</td>\n",
       "      <td>CA-2016-152156</td>\n",
       "      <td>11/8/2016</td>\n",
       "      <td>11/11/2016</td>\n",
       "      <td>Second Class</td>\n",
       "      <td>CG-12520</td>\n",
       "      <td>Claire Gute</td>\n",
       "      <td>Consumer</td>\n",
       "      <td>United States</td>\n",
       "      <td>Henderson</td>\n",
       "      <td>Kentucky</td>\n",
       "      <td>42420</td>\n",
       "      <td>South</td>\n",
       "      <td>FUR-CH-10000454</td>\n",
       "      <td>Furniture</td>\n",
       "      <td>Chairs</td>\n",
       "      <td>Hon Deluxe Fabric Upholstered Stacking Chairs,...</td>\n",
       "      <td>731.9400</td>\n",
       "      <td>3</td>\n",
       "      <td>0.00</td>\n",
       "      <td>219.5820</td>\n",
       "    </tr>\n",
       "    <tr>\n",
       "      <th>2</th>\n",
       "      <td>3</td>\n",
       "      <td>CA-2016-138688</td>\n",
       "      <td>6/12/2016</td>\n",
       "      <td>6/16/2016</td>\n",
       "      <td>Second Class</td>\n",
       "      <td>DV-13045</td>\n",
       "      <td>Darrin Van Huff</td>\n",
       "      <td>Corporate</td>\n",
       "      <td>United States</td>\n",
       "      <td>Los Angeles</td>\n",
       "      <td>California</td>\n",
       "      <td>90036</td>\n",
       "      <td>West</td>\n",
       "      <td>OFF-LA-10000240</td>\n",
       "      <td>Office Supplies</td>\n",
       "      <td>Labels</td>\n",
       "      <td>Self-Adhesive Address Labels for Typewriters b...</td>\n",
       "      <td>14.6200</td>\n",
       "      <td>2</td>\n",
       "      <td>0.00</td>\n",
       "      <td>6.8714</td>\n",
       "    </tr>\n",
       "    <tr>\n",
       "      <th>3</th>\n",
       "      <td>4</td>\n",
       "      <td>US-2015-108966</td>\n",
       "      <td>10/11/2015</td>\n",
       "      <td>10/18/2015</td>\n",
       "      <td>Standard Class</td>\n",
       "      <td>SO-20335</td>\n",
       "      <td>Sean O'Donnell</td>\n",
       "      <td>Consumer</td>\n",
       "      <td>United States</td>\n",
       "      <td>Fort Lauderdale</td>\n",
       "      <td>Florida</td>\n",
       "      <td>33311</td>\n",
       "      <td>South</td>\n",
       "      <td>FUR-TA-10000577</td>\n",
       "      <td>Furniture</td>\n",
       "      <td>Tables</td>\n",
       "      <td>Bretford CR4500 Series Slim Rectangular Table</td>\n",
       "      <td>957.5775</td>\n",
       "      <td>5</td>\n",
       "      <td>0.45</td>\n",
       "      <td>-383.0310</td>\n",
       "    </tr>\n",
       "    <tr>\n",
       "      <th>4</th>\n",
       "      <td>5</td>\n",
       "      <td>US-2015-108966</td>\n",
       "      <td>10/11/2015</td>\n",
       "      <td>10/18/2015</td>\n",
       "      <td>Standard Class</td>\n",
       "      <td>SO-20335</td>\n",
       "      <td>Sean O'Donnell</td>\n",
       "      <td>Consumer</td>\n",
       "      <td>United States</td>\n",
       "      <td>Fort Lauderdale</td>\n",
       "      <td>Florida</td>\n",
       "      <td>33311</td>\n",
       "      <td>South</td>\n",
       "      <td>OFF-ST-10000760</td>\n",
       "      <td>Office Supplies</td>\n",
       "      <td>Storage</td>\n",
       "      <td>Eldon Fold 'N Roll Cart System</td>\n",
       "      <td>22.3680</td>\n",
       "      <td>2</td>\n",
       "      <td>0.20</td>\n",
       "      <td>2.5164</td>\n",
       "    </tr>\n",
       "    <tr>\n",
       "      <th>...</th>\n",
       "      <td>...</td>\n",
       "      <td>...</td>\n",
       "      <td>...</td>\n",
       "      <td>...</td>\n",
       "      <td>...</td>\n",
       "      <td>...</td>\n",
       "      <td>...</td>\n",
       "      <td>...</td>\n",
       "      <td>...</td>\n",
       "      <td>...</td>\n",
       "      <td>...</td>\n",
       "      <td>...</td>\n",
       "      <td>...</td>\n",
       "      <td>...</td>\n",
       "      <td>...</td>\n",
       "      <td>...</td>\n",
       "      <td>...</td>\n",
       "      <td>...</td>\n",
       "      <td>...</td>\n",
       "      <td>...</td>\n",
       "      <td>...</td>\n",
       "    </tr>\n",
       "    <tr>\n",
       "      <th>9989</th>\n",
       "      <td>9990</td>\n",
       "      <td>CA-2014-110422</td>\n",
       "      <td>1/21/2014</td>\n",
       "      <td>1/23/2014</td>\n",
       "      <td>Second Class</td>\n",
       "      <td>TB-21400</td>\n",
       "      <td>Tom Boeckenhauer</td>\n",
       "      <td>Consumer</td>\n",
       "      <td>United States</td>\n",
       "      <td>Miami</td>\n",
       "      <td>Florida</td>\n",
       "      <td>33180</td>\n",
       "      <td>South</td>\n",
       "      <td>FUR-FU-10001889</td>\n",
       "      <td>Furniture</td>\n",
       "      <td>Furnishings</td>\n",
       "      <td>Ultra Door Pull Handle</td>\n",
       "      <td>25.2480</td>\n",
       "      <td>3</td>\n",
       "      <td>0.20</td>\n",
       "      <td>4.1028</td>\n",
       "    </tr>\n",
       "    <tr>\n",
       "      <th>9990</th>\n",
       "      <td>9991</td>\n",
       "      <td>CA-2017-121258</td>\n",
       "      <td>2/26/2017</td>\n",
       "      <td>3/3/2017</td>\n",
       "      <td>Standard Class</td>\n",
       "      <td>DB-13060</td>\n",
       "      <td>Dave Brooks</td>\n",
       "      <td>Consumer</td>\n",
       "      <td>United States</td>\n",
       "      <td>Costa Mesa</td>\n",
       "      <td>California</td>\n",
       "      <td>92627</td>\n",
       "      <td>West</td>\n",
       "      <td>FUR-FU-10000747</td>\n",
       "      <td>Furniture</td>\n",
       "      <td>Furnishings</td>\n",
       "      <td>Tenex B1-RE Series Chair Mats for Low Pile Car...</td>\n",
       "      <td>91.9600</td>\n",
       "      <td>2</td>\n",
       "      <td>0.00</td>\n",
       "      <td>15.6332</td>\n",
       "    </tr>\n",
       "    <tr>\n",
       "      <th>9991</th>\n",
       "      <td>9992</td>\n",
       "      <td>CA-2017-121258</td>\n",
       "      <td>2/26/2017</td>\n",
       "      <td>3/3/2017</td>\n",
       "      <td>Standard Class</td>\n",
       "      <td>DB-13060</td>\n",
       "      <td>Dave Brooks</td>\n",
       "      <td>Consumer</td>\n",
       "      <td>United States</td>\n",
       "      <td>Costa Mesa</td>\n",
       "      <td>California</td>\n",
       "      <td>92627</td>\n",
       "      <td>West</td>\n",
       "      <td>TEC-PH-10003645</td>\n",
       "      <td>Technology</td>\n",
       "      <td>Phones</td>\n",
       "      <td>Aastra 57i VoIP phone</td>\n",
       "      <td>258.5760</td>\n",
       "      <td>2</td>\n",
       "      <td>0.20</td>\n",
       "      <td>19.3932</td>\n",
       "    </tr>\n",
       "    <tr>\n",
       "      <th>9992</th>\n",
       "      <td>9993</td>\n",
       "      <td>CA-2017-121258</td>\n",
       "      <td>2/26/2017</td>\n",
       "      <td>3/3/2017</td>\n",
       "      <td>Standard Class</td>\n",
       "      <td>DB-13060</td>\n",
       "      <td>Dave Brooks</td>\n",
       "      <td>Consumer</td>\n",
       "      <td>United States</td>\n",
       "      <td>Costa Mesa</td>\n",
       "      <td>California</td>\n",
       "      <td>92627</td>\n",
       "      <td>West</td>\n",
       "      <td>OFF-PA-10004041</td>\n",
       "      <td>Office Supplies</td>\n",
       "      <td>Paper</td>\n",
       "      <td>It's Hot Message Books with Stickers, 2 3/4\" x 5\"</td>\n",
       "      <td>29.6000</td>\n",
       "      <td>4</td>\n",
       "      <td>0.00</td>\n",
       "      <td>13.3200</td>\n",
       "    </tr>\n",
       "    <tr>\n",
       "      <th>9993</th>\n",
       "      <td>9994</td>\n",
       "      <td>CA-2017-119914</td>\n",
       "      <td>5/4/2017</td>\n",
       "      <td>5/9/2017</td>\n",
       "      <td>Second Class</td>\n",
       "      <td>CC-12220</td>\n",
       "      <td>Chris Cortes</td>\n",
       "      <td>Consumer</td>\n",
       "      <td>United States</td>\n",
       "      <td>Westminster</td>\n",
       "      <td>California</td>\n",
       "      <td>92683</td>\n",
       "      <td>West</td>\n",
       "      <td>OFF-AP-10002684</td>\n",
       "      <td>Office Supplies</td>\n",
       "      <td>Appliances</td>\n",
       "      <td>Acco 7-Outlet Masterpiece Power Center, Wihtou...</td>\n",
       "      <td>243.1600</td>\n",
       "      <td>2</td>\n",
       "      <td>0.00</td>\n",
       "      <td>72.9480</td>\n",
       "    </tr>\n",
       "  </tbody>\n",
       "</table>\n",
       "<p>9994 rows × 21 columns</p>\n",
       "</div>"
      ],
      "text/plain": [
       "      Row ID        Order ID  Order Date  ... Quantity Discount    Profit\n",
       "0          1  CA-2016-152156   11/8/2016  ...        2     0.00   41.9136\n",
       "1          2  CA-2016-152156   11/8/2016  ...        3     0.00  219.5820\n",
       "2          3  CA-2016-138688   6/12/2016  ...        2     0.00    6.8714\n",
       "3          4  US-2015-108966  10/11/2015  ...        5     0.45 -383.0310\n",
       "4          5  US-2015-108966  10/11/2015  ...        2     0.20    2.5164\n",
       "...      ...             ...         ...  ...      ...      ...       ...\n",
       "9989    9990  CA-2014-110422   1/21/2014  ...        3     0.20    4.1028\n",
       "9990    9991  CA-2017-121258   2/26/2017  ...        2     0.00   15.6332\n",
       "9991    9992  CA-2017-121258   2/26/2017  ...        2     0.20   19.3932\n",
       "9992    9993  CA-2017-121258   2/26/2017  ...        4     0.00   13.3200\n",
       "9993    9994  CA-2017-119914    5/4/2017  ...        2     0.00   72.9480\n",
       "\n",
       "[9994 rows x 21 columns]"
      ]
     },
     "execution_count": 7,
     "metadata": {},
     "output_type": "execute_result"
    },
    {
     "output_type": "display_data",
     "data": {
      "application/vnd.databricks.v1+display_df_hint": {
       "mode": "should_hint",
       "name": "df",
       "type": "pandas.core.frame.DataFrame"
      }
     },
     "metadata": {},
     "output_type": "display_data"
    }
   ],
   "source": [
    "import pandas  as pd\n",
    "from io import BytesIO\n",
    "container_name=\"source\"\n",
    "file_name=\"Sample - Superstore1.csv\"\n",
    "blob_client=blob_service_client.get_blob_client(container=container_name,blob=file_name)\n",
    "download_stream=blob_client.download_blob().readall()\n",
    "df=pd.read_csv(BytesIO(download_stream),encoding=\"ISO-8859-1\")\n",
    "df\n"
   ]
  },
  {
   "cell_type": "code",
   "execution_count": 0,
   "metadata": {
    "application/vnd.databricks.v1+cell": {
     "cellMetadata": {
      "byteLimit": 2048000,
      "rowLimit": 10000
     },
     "inputWidgets": {},
     "nuid": "62f1e1f1-859f-4d94-a418-8dbdb2a5e9c6",
     "showTitle": false,
     "tableResultSettingsMap": {},
     "title": ""
    }
   },
   "outputs": [
    {
     "output_type": "execute_result",
     "data": {
      "text/html": [
       "<div>\n",
       "<style scoped>\n",
       "    .dataframe tbody tr th:only-of-type {\n",
       "        vertical-align: middle;\n",
       "    }\n",
       "\n",
       "    .dataframe tbody tr th {\n",
       "        vertical-align: top;\n",
       "    }\n",
       "\n",
       "    .dataframe thead th {\n",
       "        text-align: right;\n",
       "    }\n",
       "</style>\n",
       "<table border=\"1\" class=\"dataframe\">\n",
       "  <thead>\n",
       "    <tr style=\"text-align: right;\">\n",
       "      <th></th>\n",
       "      <th>Row ID</th>\n",
       "      <th>Order ID</th>\n",
       "      <th>Order Date</th>\n",
       "      <th>Ship Date</th>\n",
       "      <th>Ship Mode</th>\n",
       "      <th>Customer ID</th>\n",
       "      <th>Customer Name</th>\n",
       "      <th>Segment</th>\n",
       "      <th>Country</th>\n",
       "      <th>City</th>\n",
       "      <th>State</th>\n",
       "      <th>Postal Code</th>\n",
       "      <th>Region</th>\n",
       "      <th>Product ID</th>\n",
       "      <th>Category</th>\n",
       "      <th>Sub-Category</th>\n",
       "      <th>Product Name</th>\n",
       "      <th>Sales</th>\n",
       "      <th>Quantity</th>\n",
       "      <th>Discount</th>\n",
       "      <th>Profit</th>\n",
       "    </tr>\n",
       "  </thead>\n",
       "  <tbody>\n",
       "    <tr>\n",
       "      <th>0</th>\n",
       "      <td>1</td>\n",
       "      <td>CA-2016-152156</td>\n",
       "      <td>11/8/2016</td>\n",
       "      <td>11/11/2016</td>\n",
       "      <td>Second Class</td>\n",
       "      <td>CG-12520</td>\n",
       "      <td>Claire Gute</td>\n",
       "      <td>Consumer</td>\n",
       "      <td>United States</td>\n",
       "      <td>Henderson</td>\n",
       "      <td>Kentucky</td>\n",
       "      <td>42420</td>\n",
       "      <td>South</td>\n",
       "      <td>FUR-BO-10001798</td>\n",
       "      <td>Furniture</td>\n",
       "      <td>Bookcases</td>\n",
       "      <td>Bush Somerset Collection Bookcase</td>\n",
       "      <td>261.96</td>\n",
       "      <td>2</td>\n",
       "      <td>0.0</td>\n",
       "      <td>41.9136</td>\n",
       "    </tr>\n",
       "    <tr>\n",
       "      <th>1</th>\n",
       "      <td>2</td>\n",
       "      <td>CA-2016-152156</td>\n",
       "      <td>11/8/2016</td>\n",
       "      <td>11/11/2016</td>\n",
       "      <td>Second Class</td>\n",
       "      <td>CG-12520</td>\n",
       "      <td>Claire Gute</td>\n",
       "      <td>Consumer</td>\n",
       "      <td>United States</td>\n",
       "      <td>Henderson</td>\n",
       "      <td>Kentucky</td>\n",
       "      <td>42420</td>\n",
       "      <td>South</td>\n",
       "      <td>FUR-CH-10000454</td>\n",
       "      <td>Furniture</td>\n",
       "      <td>Chairs</td>\n",
       "      <td>Hon Deluxe Fabric Upholstered Stacking Chairs,...</td>\n",
       "      <td>731.94</td>\n",
       "      <td>3</td>\n",
       "      <td>0.0</td>\n",
       "      <td>219.5820</td>\n",
       "    </tr>\n",
       "  </tbody>\n",
       "</table>\n",
       "</div>"
      ],
      "text/plain": [
       "   Row ID        Order ID Order Date  ... Quantity Discount    Profit\n",
       "0       1  CA-2016-152156  11/8/2016  ...        2      0.0   41.9136\n",
       "1       2  CA-2016-152156  11/8/2016  ...        3      0.0  219.5820\n",
       "\n",
       "[2 rows x 21 columns]"
      ]
     },
     "execution_count": 8,
     "metadata": {},
     "output_type": "execute_result"
    }
   ],
   "source": [
    "logs_container='logs'\n",
    "df.head(2)"
   ]
  },
  {
   "cell_type": "code",
   "execution_count": 0,
   "metadata": {
    "application/vnd.databricks.v1+cell": {
     "cellMetadata": {
      "byteLimit": 2048000,
      "rowLimit": 10000
     },
     "inputWidgets": {},
     "nuid": "fc33d816-f93c-4c80-b799-b1bcc5e56c8c",
     "showTitle": false,
     "tableResultSettingsMap": {},
     "title": ""
    }
   },
   "outputs": [
    {
     "output_type": "display_data",
     "data": {
      "text/plain": [
       "\u001B[0;31m---------------------------------------------------------------------------\u001B[0m\n",
       "\u001B[0;31mNameError\u001B[0m                                 Traceback (most recent call last)\n",
       "File \u001B[0;32m<command-4637446614165684>, line 11\u001B[0m\n",
       "\u001B[1;32m      9\u001B[0m null_values_status\u001B[38;5;241m=\u001B[39m\u001B[38;5;124m\"\u001B[39m\u001B[38;5;124mPass\u001B[39m\u001B[38;5;124m\"\u001B[39m \u001B[38;5;28;01mif\u001B[39;00m df\u001B[38;5;241m.\u001B[39misnull()\u001B[38;5;241m.\u001B[39msum()\u001B[38;5;241m.\u001B[39msum()\u001B[38;5;241m==\u001B[39m\u001B[38;5;241m0\u001B[39m \u001B[38;5;28;01melse\u001B[39;00m \u001B[38;5;124m\"\u001B[39m\u001B[38;5;124mFAIL\u001B[39m\u001B[38;5;124m\"\u001B[39m\n",
       "\u001B[1;32m     10\u001B[0m log_result(\u001B[38;5;124m\"\u001B[39m\u001B[38;5;124mNull values\u001B[39m\u001B[38;5;124m\"\u001B[39m,null_values_status,\u001B[38;5;124mf\u001B[39m\u001B[38;5;124m\"\u001B[39m\u001B[38;5;124mrows:\u001B[39m\u001B[38;5;132;01m{\u001B[39;00mdf\u001B[38;5;241m.\u001B[39misnull()\u001B[38;5;241m.\u001B[39msum()\u001B[38;5;241m.\u001B[39msum()\u001B[38;5;132;01m}\u001B[39;00m\u001B[38;5;124m\"\u001B[39m)\n",
       "\u001B[0;32m---> 11\u001B[0m log_result(\u001B[38;5;124m\"\u001B[39m\u001B[38;5;124mSales Range check\u001B[39m\u001B[38;5;124m\"\u001B[39m, \u001B[38;5;124m\"\u001B[39m\u001B[38;5;124mTrue\u001B[39m\u001B[38;5;124m\"\u001B[39m \u001B[38;5;28;01mif\u001B[39;00m sales_range\u001B[38;5;241m>\u001B[39m\u001B[38;5;241m0\u001B[39m \u001B[38;5;28;01melse\u001B[39;00m \u001B[38;5;124m\"\u001B[39m\u001B[38;5;124mFalse\u001B[39m\u001B[38;5;124m\"\u001B[39m, sales_range)\n",
       "\n",
       "\u001B[0;31mNameError\u001B[0m: name 'sales_range' is not defined"
      ]
     },
     "metadata": {
      "application/vnd.databricks.v1+output": {
       "addedWidgets": {},
       "arguments": {},
       "datasetInfos": [],
       "jupyterProps": {
        "ename": "NameError",
        "evalue": "name 'sales_range' is not defined"
       },
       "metadata": {
        "errorSummary": "<span class='ansi-red-fg'>NameError</span>: name 'sales_range' is not defined"
       },
       "removedWidgets": [],
       "sqlProps": null,
       "stackFrames": [
        "\u001B[0;31m---------------------------------------------------------------------------\u001B[0m",
        "\u001B[0;31mNameError\u001B[0m                                 Traceback (most recent call last)",
        "File \u001B[0;32m<command-4637446614165684>, line 11\u001B[0m\n\u001B[1;32m      9\u001B[0m null_values_status\u001B[38;5;241m=\u001B[39m\u001B[38;5;124m\"\u001B[39m\u001B[38;5;124mPass\u001B[39m\u001B[38;5;124m\"\u001B[39m \u001B[38;5;28;01mif\u001B[39;00m df\u001B[38;5;241m.\u001B[39misnull()\u001B[38;5;241m.\u001B[39msum()\u001B[38;5;241m.\u001B[39msum()\u001B[38;5;241m==\u001B[39m\u001B[38;5;241m0\u001B[39m \u001B[38;5;28;01melse\u001B[39;00m \u001B[38;5;124m\"\u001B[39m\u001B[38;5;124mFAIL\u001B[39m\u001B[38;5;124m\"\u001B[39m\n\u001B[1;32m     10\u001B[0m log_result(\u001B[38;5;124m\"\u001B[39m\u001B[38;5;124mNull values\u001B[39m\u001B[38;5;124m\"\u001B[39m,null_values_status,\u001B[38;5;124mf\u001B[39m\u001B[38;5;124m\"\u001B[39m\u001B[38;5;124mrows:\u001B[39m\u001B[38;5;132;01m{\u001B[39;00mdf\u001B[38;5;241m.\u001B[39misnull()\u001B[38;5;241m.\u001B[39msum()\u001B[38;5;241m.\u001B[39msum()\u001B[38;5;132;01m}\u001B[39;00m\u001B[38;5;124m\"\u001B[39m)\n\u001B[0;32m---> 11\u001B[0m log_result(\u001B[38;5;124m\"\u001B[39m\u001B[38;5;124mSales Range check\u001B[39m\u001B[38;5;124m\"\u001B[39m, \u001B[38;5;124m\"\u001B[39m\u001B[38;5;124mTrue\u001B[39m\u001B[38;5;124m\"\u001B[39m \u001B[38;5;28;01mif\u001B[39;00m sales_range\u001B[38;5;241m>\u001B[39m\u001B[38;5;241m0\u001B[39m \u001B[38;5;28;01melse\u001B[39;00m \u001B[38;5;124m\"\u001B[39m\u001B[38;5;124mFalse\u001B[39m\u001B[38;5;124m\"\u001B[39m, sales_range)\n",
        "\u001B[0;31mNameError\u001B[0m: name 'sales_range' is not defined"
       ],
       "type": "baseError"
      }
     },
     "output_type": "display_data"
    }
   ],
   "source": [
    "import datetime\n",
    "validations=[]\n",
    "today=datetime.datetime.now().strftime(\"%Y-%m-%d\")\n",
    "today\n",
    "\n",
    "def log_result(rule,status,details=\"\"):\n",
    "    validations.append({\"Date\":today,\"Rule\":rule,\"status\":status,\"Details\":details})  \n",
    "log_result(\"File Loaded\", \"Pass\" if not df.empty else \"FAIL\",f\"rows:{len(df)}\")\n",
    "null_values_status=\"Pass\" if df.isnull().sum().sum()==0 else \"FAIL\"\n",
    "log_result(\"Null values\",null_values_status,f\"rows:{df.isnull().sum().sum()}\")\n",
    "log_result(\"Sales Range check\", \"True\" if sales_range>0 else \"False\", sales_range)\n",
    "\n"
   ]
  },
  {
   "cell_type": "code",
   "execution_count": 0,
   "metadata": {
    "application/vnd.databricks.v1+cell": {
     "cellMetadata": {
      "byteLimit": 2048000,
      "rowLimit": 10000
     },
     "inputWidgets": {},
     "nuid": "10c0e3be-02b0-40c7-8e6a-51351a45ef3c",
     "showTitle": false,
     "tableResultSettingsMap": {},
     "title": ""
    }
   },
   "outputs": [],
   "source": [
    "sales_range=(df[df['Sales']>3000].shape[0]/df.shape[0])*100"
   ]
  },
  {
   "cell_type": "code",
   "execution_count": 0,
   "metadata": {
    "application/vnd.databricks.v1+cell": {
     "cellMetadata": {
      "byteLimit": 2048000,
      "rowLimit": 10000
     },
     "inputWidgets": {},
     "nuid": "9b9191b9-45f9-4f90-a739-19b0e13a6850",
     "showTitle": false,
     "tableResultSettingsMap": {},
     "title": ""
    }
   },
   "outputs": [
    {
     "output_type": "execute_result",
     "data": {
      "text/plain": [
       "0"
      ]
     },
     "execution_count": 11,
     "metadata": {},
     "output_type": "execute_result"
    }
   ],
   "source": [
    "df.isna().sum().sum()"
   ]
  },
  {
   "cell_type": "code",
   "execution_count": 0,
   "metadata": {
    "application/vnd.databricks.v1+cell": {
     "cellMetadata": {
      "byteLimit": 2048000,
      "rowLimit": 10000
     },
     "inputWidgets": {},
     "nuid": "d71799cf-5472-4e10-953b-a0d24ec1c3c5",
     "showTitle": false,
     "tableResultSettingsMap": {},
     "title": ""
    }
   },
   "outputs": [
    {
     "output_type": "display_data",
     "data": {
      "text/plain": [
       ""
      ]
     },
     "metadata": {
      "application/vnd.databricks.v1+output": {
       "addedWidgets": {},
       "arguments": {},
       "datasetInfos": [],
       "jupyterProps": null,
       "metadata": {
        "errorSummary": "Command skipped"
       },
       "removedWidgets": [],
       "sqlProps": null,
       "stackFrames": [],
       "type": "baseError"
      }
     },
     "output_type": "display_data"
    }
   ],
   "source": [
    "validations"
   ]
  },
  {
   "cell_type": "code",
   "execution_count": 0,
   "metadata": {
    "application/vnd.databricks.v1+cell": {
     "cellMetadata": {
      "byteLimit": 2048000,
      "rowLimit": 10000
     },
     "inputWidgets": {},
     "nuid": "f92cfdd8-d7b9-4885-974b-b00caf7f26e1",
     "showTitle": false,
     "tableResultSettingsMap": {},
     "title": ""
    }
   },
   "outputs": [
    {
     "output_type": "execute_result",
     "data": {
      "text/plain": [
       "{'etag': '\"0x8DDFCF1C35CF218\"',\n",
       " 'last_modified': datetime.datetime(2025, 9, 26, 11, 42, 25, tzinfo=datetime.timezone.utc),\n",
       " 'content_md5': bytearray(b'r\\x90\\xa9\\xd7dC+ms(4\\xd1\\xf6\\xfe_\\xc5'),\n",
       " 'client_request_id': 'df10f30c-9acd-11f0-8232-0affe9e0c937',\n",
       " 'request_id': '7abac01b-a01e-00b3-14da-2ef325000000',\n",
       " 'version': '2024-11-04',\n",
       " 'version_id': None,\n",
       " 'date': datetime.datetime(2025, 9, 26, 11, 42, 25, tzinfo=datetime.timezone.utc),\n",
       " 'request_server_encrypted': True,\n",
       " 'encryption_key_sha256': None,\n",
       " 'encryption_scope': None}"
      ]
     },
     "execution_count": 13,
     "metadata": {},
     "output_type": "execute_result"
    }
   ],
   "source": [
    "validations_df=pd.DataFrame(validations)\n",
    "validations_df\n",
    "logs_blob_clinet=blob_service_client.get_blob_client(container=logs_container,blob=\"validations.csv\")\n",
    "logs_blob_clinet.upload_blob(validations_df.to_csv(index=False),overwrite=True)"
   ]
  },
  {
   "cell_type": "code",
   "execution_count": 0,
   "metadata": {
    "application/vnd.databricks.v1+cell": {
     "cellMetadata": {
      "byteLimit": 2048000,
      "rowLimit": 10000
     },
     "inputWidgets": {},
     "nuid": "281b9019-ed52-4d61-bc27-427eb87277dd",
     "showTitle": false,
     "tableResultSettingsMap": {},
     "title": ""
    }
   },
   "outputs": [
    {
     "output_type": "stream",
     "name": "stdout",
     "output_type": "stream",
     "text": [
      "✅ Validation log uploaded to container 'logs' as 'validation_log_2025-09-26.csv'\n"
     ]
    }
   ],
   "source": [
    "from azure.storage.blob import BlobServiceClient\n",
    "import pandas as pd\n",
    "from io import BytesIO\n",
    "import datetime\n",
    "\n",
    "# Azure connection\n",
    "connection_string = \"DefaultEndpointsProtocol=https;AccountName=insurancedataset2025;AccountKey=eIOZmD5913OT0f5DqbBQBKiu+ghZwqAPvt2s+7wYAcRZTdvjUcTGLyYODcYNxG9WL9pg1+tZB4ht+ASte4zRLg==;EndpointSuffix=core.windows.net\"\n",
    "blob_service_client = BlobServiceClient.from_connection_string(connection_string)\n",
    "\n",
    "# Source file details\n",
    "source_container = \"source\"\n",
    "file_name = \"Sample - Superstore1.csv\"\n",
    "\n",
    "# Logs container (make sure 'logs' container already exists)\n",
    "logs_container = \"logs\"\n",
    "\n",
    "# Download the source CSV\n",
    "blob_client = blob_service_client.get_blob_client(container=source_container, blob=file_name)\n",
    "download_stream = blob_client.download_blob().readall()\n",
    "\n",
    "# Read CSV with fallback encoding\n",
    "try:\n",
    "    df = pd.read_csv(BytesIO(download_stream), encoding=\"utf-8\")\n",
    "except UnicodeDecodeError:\n",
    "    df = pd.read_csv(BytesIO(download_stream), encoding=\"ISO-8859-1\")\n",
    "\n",
    "# --- Data Validations ---\n",
    "validations = []\n",
    "today = datetime.datetime.now().strftime(\"%Y-%m-%d\")\n",
    "\n",
    "def log_result(rule, status, details=\"\"):\n",
    "    validations.append({\"Date\": today, \"Rule\": rule, \"Status\": status, \"Details\": details})\n",
    "\n",
    "# (20 checks as before)\n",
    "log_result(\"File Loaded\", \"PASS\" if not df.empty else \"FAIL\", f\"Rows: {len(df)}\")\n",
    "log_result(\"Duplicate Rows\", \"FAIL\" if df.duplicated().any() else \"PASS\")\n",
    "log_result(\"Null Order ID\", \"FAIL\" if df['Order ID'].isnull().any() else \"PASS\")\n",
    "log_result(\"Null Order Date\", \"FAIL\" if df['Order Date'].isnull().any() else \"PASS\")\n",
    "\n",
    "try:\n",
    "    pd.to_datetime(df['Order Date']); log_result(\"Valid Order Dates\", \"PASS\")\n",
    "except Exception as e: log_result(\"Valid Order Dates\", \"FAIL\", str(e))\n",
    "\n",
    "try:\n",
    "    pd.to_datetime(df['Ship Date']); log_result(\"Valid Ship Dates\", \"PASS\")\n",
    "except Exception as e: log_result(\"Valid Ship Dates\", \"FAIL\", str(e))\n",
    "\n",
    "try:\n",
    "    if (pd.to_datetime(df['Ship Date']) >= pd.to_datetime(df['Order Date'])).all():\n",
    "        log_result(\"Ship Date after Order Date\", \"PASS\")\n",
    "    else:\n",
    "        log_result(\"Ship Date after Order Date\", \"FAIL\")\n",
    "except: log_result(\"Ship Date after Order Date\", \"FAIL\")\n",
    "\n",
    "log_result(\"Negative Sales\", \"FAIL\" if (df['Sales'] < 0).any() else \"PASS\")\n",
    "log_result(\"Negative Quantity\", \"FAIL\" if (df['Quantity'] < 0).any() else \"PASS\")\n",
    "log_result(\"Discount Range\", \"FAIL\" if not df['Discount'].between(0, 1).all() else \"PASS\")\n",
    "log_result(\"Profit Null\", \"FAIL\" if df['Profit'].isnull().any() else \"PASS\")\n",
    "log_result(\"Order+Product Unique\", \"FAIL\" if df.duplicated(['Order ID','Product ID']).any() else \"PASS\")\n",
    "log_result(\"Future Order Dates\", \"FAIL\" if (pd.to_datetime(df['Order Date']) > pd.Timestamp.today()).any() else \"PASS\")\n",
    "\n",
    "if 'Postal Code' in df.columns:\n",
    "    log_result(\"Postal Code Numeric\", \"FAIL\" if not df['Postal Code'].astype(str).str.isnumeric().all() else \"PASS\")\n",
    "\n",
    "if 'Country' in df.columns:\n",
    "    log_result(\"Country United States\", \"FAIL\" if not (df['Country'] == \"United States\").all() else \"PASS\")\n",
    "\n",
    "if 'Category' in df.columns:\n",
    "    valid_categories = {\"Furniture\", \"Office Supplies\", \"Technology\"}\n",
    "    log_result(\"Category Valid\", \"FAIL\" if not df['Category'].isin(valid_categories).all() else \"PASS\")\n",
    "\n",
    "log_result(\"Row Count > 1000\", \"PASS\" if len(df) > 1000 else \"FAIL\")\n",
    "log_result(\"Sales > 0 if Quantity > 0\", \"FAIL\" if ((df['Quantity'] > 0) & (df['Sales'] <= 0)).any() else \"PASS\")\n",
    "log_result(\"Null Customer Name\", \"FAIL\" if df['Customer Name'].isnull().any() else \"PASS\")\n",
    "\n",
    "if 'State' in df.columns:\n",
    "    log_result(\"Null State\", \"FAIL\" if df['State'].isnull().any() else \"PASS\")\n",
    "\n",
    "# --- Save log to CSV in-memory ---\n",
    "log_df = pd.DataFrame(validations)\n",
    "log_file = f\"validation_log_{today}.csv\"\n",
    "\n",
    "csv_buffer = BytesIO()\n",
    "log_df.to_csv(csv_buffer, index=False)\n",
    "csv_buffer.seek(0)\n",
    "\n",
    "# --- Upload log CSV into logs container ---\n",
    "logs_blob_client = blob_service_client.get_blob_client(container=logs_container, blob=log_file)\n",
    "logs_blob_client.upload_blob(csv_buffer, overwrite=True)\n",
    "\n",
    "print(f\"✅ Validation log uploaded to container '{logs_container}' as '{log_file}'\")\n"
   ]
  },
  {
   "cell_type": "code",
   "execution_count": 0,
   "metadata": {
    "application/vnd.databricks.v1+cell": {
     "cellMetadata": {
      "byteLimit": 2048000,
      "rowLimit": 10000
     },
     "inputWidgets": {},
     "nuid": "be92e65f-3804-4a6f-b9c9-4c6e8223b904",
     "showTitle": false,
     "tableResultSettingsMap": {},
     "title": ""
    }
   },
   "outputs": [],
   "source": [
    "### checking should be part of bronze\n",
    "### creating ( Trasformations)\n",
    "### order_date : yyyy:mm:dd , year,month, day, leap year, quarter, half, start of the month , end of the month"
   ]
  },
  {
   "cell_type": "code",
   "execution_count": 0,
   "metadata": {
    "application/vnd.databricks.v1+cell": {
     "cellMetadata": {
      "byteLimit": 2048000,
      "rowLimit": 10000
     },
     "inputWidgets": {},
     "nuid": "301df5ea-d66c-46ed-8150-e60e68e0751f",
     "showTitle": false,
     "tableResultSettingsMap": {},
     "title": ""
    }
   },
   "outputs": [
    {
     "output_type": "execute_result",
     "data": {
      "text/plain": [
       "Index(['Row ID', 'Order ID', 'Order Date', 'Ship Date', 'Ship Mode',\n",
       "       'Customer ID', 'Customer Name', 'Segment', 'Country', 'City', 'State',\n",
       "       'Postal Code', 'Region', 'Product ID', 'Category', 'Sub-Category',\n",
       "       'Product Name', 'Sales', 'Quantity', 'Discount', 'Profit'],\n",
       "      dtype='object')"
      ]
     },
     "execution_count": 17,
     "metadata": {},
     "output_type": "execute_result"
    }
   ],
   "source": [
    "df.columns"
   ]
  },
  {
   "cell_type": "code",
   "execution_count": 0,
   "metadata": {
    "application/vnd.databricks.v1+cell": {
     "cellMetadata": {
      "byteLimit": 2048000,
      "rowLimit": 10000
     },
     "inputWidgets": {},
     "nuid": "7b88d0e7-399c-4e9d-bde6-d4ffa413591f",
     "showTitle": false,
     "tableResultSettingsMap": {},
     "title": ""
    }
   },
   "outputs": [],
   "source": [
    "### df, null_value_check , outliers check, duplicate values check \n",
    "### net_sales= sales-(sales*discount)\n",
    "### profit margins : (profit/sales)*100\n",
    "### cls(customer life time sales) \n",
    "# (select customer_id,sum(sales) from table group by customer_id), df.groupby(\"customer_id\").sum()['sales]\n",
    "### customer_segmentation : \n",
    "        def customer_segment(sales):\n",
    "            if sales<1000:\n",
    "                return \"low value customer\"\n",
    "            elif sales>=1000 and sales<5000:\n",
    "                return \"mid value customer\"\n",
    "            else:\n",
    "                return \"high value customer customer\"\n",
    "    df['sales'].apply(lambda row: customer_segment(row))\n",
    "\n",
    "    \n"
   ]
  },
  {
   "cell_type": "code",
   "execution_count": 0,
   "metadata": {
    "application/vnd.databricks.v1+cell": {
     "cellMetadata": {
      "byteLimit": 2048000,
      "rowLimit": 10000
     },
     "inputWidgets": {},
     "nuid": "021f439e-36ba-4dc7-86f4-6ac3f362a131",
     "showTitle": false,
     "tableResultSettingsMap": {},
     "title": ""
    }
   },
   "outputs": [
    {
     "output_type": "stream",
     "name": "stdout",
     "output_type": "stream",
     "text": [
      "✅ Transformed Silver file saved to Bronze as 'superstore_transformed_2025-09-26.csv'\n"
     ]
    }
   ],
   "source": [
    "from azure.storage.blob import BlobServiceClient\n",
    "import pandas as pd\n",
    "from io import BytesIO\n",
    "import datetime\n",
    "\n",
    "# \uD83D\uDD39 Azure connection\n",
    "connection_string = \"DefaultEndpointsProtocol=https;AccountName=insurancedataset2025;AccountKey=eIOZmD5913OT0f5DqbBQBKiu+ghZwqAPvt2s+7wYAcRZTdvjUcTGLyYODcYNxG9WL9pg1+tZB4ht+ASte4zRLg==;EndpointSuffix=core.windows.net\"\n",
    "blob_service_client = BlobServiceClient.from_connection_string(connection_string)\n",
    "\n",
    "# \uD83D\uDD39 Containers\n",
    "source_container = \"source\"\n",
    "bronze_container = \"silver\"\n",
    "file_name = \"Sample - Superstore1.csv\"\n",
    "\n",
    "# --- Step 1: Read Source File ---\n",
    "blob_client = blob_service_client.get_blob_client(container=source_container, blob=file_name)\n",
    "download_stream = blob_client.download_blob().readall()\n",
    "\n",
    "try:\n",
    "    df = pd.read_csv(BytesIO(download_stream), encoding=\"utf-8\")\n",
    "except UnicodeDecodeError:\n",
    "    df = pd.read_csv(BytesIO(download_stream), encoding=\"ISO-8859-1\")\n",
    "\n",
    "# --- Step 2: Apply 30 Transformations ---\n",
    "\n",
    "# 1. Standardize column names\n",
    "df.columns = df.columns.str.strip().str.lower().str.replace(\" \", \"_\")\n",
    "\n",
    "# 2. Remove duplicates\n",
    "df.drop_duplicates(inplace=True)\n",
    "\n",
    "# 3. Trim spaces\n",
    "for col in df.select_dtypes(include=\"object\"):\n",
    "    df[col] = df[col].astype(str).str.strip()\n",
    "\n",
    "# 4-5. Convert dates\n",
    "df['order_date'] = pd.to_datetime(df['order_date'], errors=\"coerce\")\n",
    "df['ship_date'] = pd.to_datetime(df['ship_date'], errors=\"coerce\")\n",
    "\n",
    "# 6-11. Extract date parts\n",
    "df['order_year'] = df['order_date'].dt.year\n",
    "df['order_month'] = df['order_date'].dt.month\n",
    "df['order_day'] = df['order_date'].dt.day\n",
    "df['ship_year'] = df['ship_date'].dt.year\n",
    "df['ship_month'] = df['ship_date'].dt.month\n",
    "df['ship_day'] = df['ship_date'].dt.day\n",
    "\n",
    "# 12. Shipping days\n",
    "df['shipping_days'] = (df['ship_date'] - df['order_date']).dt.days\n",
    "\n",
    "# 13. Standardize customer name\n",
    "df['customer_name'] = df['customer_name'].str.title()\n",
    "\n",
    "# 14. Robust split into first_name & last_name\n",
    "df[['first_name', 'last_name']] = df['customer_name'].str.split(\" \", n=1, expand=True)\n",
    "df['last_name'] = df['last_name'].fillna(\"\")\n",
    "\n",
    "# 15. Standardize state\n",
    "df['state'] = df['state'].str.title()\n",
    "\n",
    "# 16. Postal Code 5 digits\n",
    "df['postal_code'] = df['postal_code'].astype(str).str.zfill(5)\n",
    "\n",
    "# 17. Country fixed\n",
    "df['country'] = \"United States\"\n",
    "\n",
    "# 18. Normalize Category\n",
    "df['category'] = df['category'].replace({\n",
    "    \"furniture\": \"Furniture\",\n",
    "    \"technology\": \"Technology\",\n",
    "    \"office supplies\": \"Office Supplies\"\n",
    "})\n",
    "\n",
    "# 19. Profit margin\n",
    "df['profit_margin'] = df['profit'] / df['sales']\n",
    "\n",
    "# 20. Sales per quantity\n",
    "df['sales_per_quantity'] = df['sales'] / df['quantity']\n",
    "\n",
    "# 21. High discount flag\n",
    "df['high_discount'] = df['discount'] > 0.5\n",
    "\n",
    "# 22. Negative profit flag\n",
    "df['negative_profit'] = df['profit'] < 0\n",
    "\n",
    "# 23. Region-State\n",
    "df['region_state'] = df['region'] + \"-\" + df['state']\n",
    "\n",
    "# 24. Order priority (rule based)\n",
    "df['order_priority'] = df.apply(lambda x: \"High\" if x['discount'] > 0.4 else \"Normal\", axis=1)\n",
    "\n",
    "# 25. Replace null postal codes\n",
    "df['postal_code'] = df['postal_code'].replace(\"nan\", \"00000\")\n",
    "\n",
    "# 26. Cap discount at 0.8\n",
    "df['discount'] = df['discount'].clip(upper=0.8)\n",
    "\n",
    "# 27. Round sales/profit\n",
    "df['sales'] = df['sales'].round(2)\n",
    "df['profit'] = df['profit'].round(2)\n",
    "\n",
    "# 28. Sales bucket\n",
    "df['sales_bucket'] = pd.cut(df['sales'], bins=[0, 100, 500, df['sales'].max()], labels=[\"Low\", \"Medium\", \"High\"])\n",
    "\n",
    "# 29. Month name\n",
    "df['order_month_name'] = df['order_date'].dt.strftime(\"%B\")\n",
    "\n",
    "# 30. Reorder columns\n",
    "columns_order = [\n",
    "    'order_id','order_date','order_year','order_month','order_day',\n",
    "    'ship_date','ship_year','ship_month','ship_day','shipping_days',\n",
    "    'customer_id','customer_name','first_name','last_name','segment',\n",
    "    'country','state','region','region_state','postal_code','category',\n",
    "    'sub_category','product_id','product_name','sales','profit','discount',\n",
    "    'quantity','profit_margin','sales_per_quantity','high_discount',\n",
    "    'negative_profit','order_priority','sales_bucket','order_month_name'\n",
    "]\n",
    "df = df[[col for col in columns_order if col in df.columns]]\n",
    "\n",
    "# --- Step 3: Save Transformed File to Bronze ---\n",
    "output_file = f\"superstore_transformed_{datetime.datetime.now().strftime('%Y-%m-%d')}.csv\"\n",
    "\n",
    "csv_buffer = BytesIO()\n",
    "df.to_csv(csv_buffer, index=False)\n",
    "csv_buffer.seek(0)\n",
    "\n",
    "bronze_blob_client = blob_service_client.get_blob_client(container=bronze_container, blob=output_file)\n",
    "bronze_blob_client.upload_blob(csv_buffer, overwrite=True)\n",
    "\n",
    "print(f\"✅ Transformed Silver file saved to Bronze as '{output_file}'\")\n"
   ]
  },
  {
   "cell_type": "code",
   "execution_count": 0,
   "metadata": {
    "application/vnd.databricks.v1+cell": {
     "cellMetadata": {
      "byteLimit": 2048000,
      "rowLimit": 10000
     },
     "inputWidgets": {},
     "nuid": "eb32f5e8-ebe2-4fec-916a-27cbcb9f2dc6",
     "showTitle": false,
     "tableResultSettingsMap": {},
     "title": ""
    }
   },
   "outputs": [],
   "source": [
    "### Bronze - Silver\n",
    "### Bronze(20 columns)- Feature engineering(40 columns) ( Derived columns, which is a combination of your general trasformations plus \n",
    "###business rules)"
   ]
  },
  {
   "cell_type": "code",
   "execution_count": 0,
   "metadata": {
    "application/vnd.databricks.v1+cell": {
     "cellMetadata": {},
     "inputWidgets": {},
     "nuid": "c4668706-79a1-406d-8c32-976922a46310",
     "showTitle": false,
     "tableResultSettingsMap": {},
     "title": ""
    }
   },
   "outputs": [],
   "source": [
    "### log,sin ,tan cos,1/x"
   ]
  },
  {
   "cell_type": "code",
   "execution_count": 0,
   "metadata": {
    "application/vnd.databricks.v1+cell": {
     "cellMetadata": {},
     "inputWidgets": {},
     "nuid": "b47ee98d-2951-472d-b0d2-5bf5b628b9f2",
     "showTitle": false,
     "tableResultSettingsMap": {},
     "title": ""
    }
   },
   "outputs": [],
   "source": [
    "### silver to gold \n",
    "### gold is the final output"
   ]
  },
  {
   "cell_type": "code",
   "execution_count": 0,
   "metadata": {
    "application/vnd.databricks.v1+cell": {
     "cellMetadata": {},
     "inputWidgets": {},
     "nuid": "a59f2eb1-e056-49f5-aca1-648c48b0ca58",
     "showTitle": false,
     "tableResultSettingsMap": {},
     "title": ""
    }
   },
   "outputs": [],
   "source": [
    "### if you are building gold layer for single project with single table\n",
    "### if you are building gold layer for multiple projects with multiple tables with star or snowflake schemas"
   ]
  },
  {
   "cell_type": "code",
   "execution_count": 0,
   "metadata": {
    "application/vnd.databricks.v1+cell": {
     "cellMetadata": {},
     "inputWidgets": {},
     "nuid": "ed132a62-ce12-4bd1-a58d-2376a936368d",
     "showTitle": false,
     "tableResultSettingsMap": {},
     "title": ""
    }
   },
   "outputs": [],
   "source": []
  },
  {
   "cell_type": "code",
   "execution_count": 0,
   "metadata": {
    "application/vnd.databricks.v1+cell": {
     "cellMetadata": {
      "byteLimit": 2048000,
      "rowLimit": 10000
     },
     "inputWidgets": {},
     "nuid": "d20a7ec4-b417-4389-a1f0-6c548b461330",
     "showTitle": false,
     "tableResultSettingsMap": {},
     "title": ""
    }
   },
   "outputs": [
    {
     "output_type": "execute_result",
     "data": {
      "text/plain": [
       "Index(['order_id', 'order_date', 'order_year', 'order_month', 'order_day',\n",
       "       'ship_date', 'ship_year', 'ship_month', 'ship_day', 'shipping_days',\n",
       "       'customer_id', 'customer_name', 'first_name', 'last_name', 'segment',\n",
       "       'country', 'state', 'region', 'region_state', 'postal_code', 'category',\n",
       "       'product_id', 'product_name', 'sales', 'profit', 'discount', 'quantity',\n",
       "       'profit_margin', 'sales_per_quantity', 'high_discount',\n",
       "       'negative_profit', 'order_priority', 'sales_bucket',\n",
       "       'order_month_name'],\n",
       "      dtype='object')"
      ]
     },
     "execution_count": 36,
     "metadata": {},
     "output_type": "execute_result"
    }
   ],
   "source": [
    "df.columns"
   ]
  },
  {
   "cell_type": "code",
   "execution_count": 0,
   "metadata": {
    "application/vnd.databricks.v1+cell": {
     "cellMetadata": {
      "byteLimit": 2048000,
      "rowLimit": 10000
     },
     "inputWidgets": {},
     "nuid": "d3b6a769-4249-4689-afcc-826ca30f86f9",
     "showTitle": false,
     "tableResultSettingsMap": {},
     "title": ""
    }
   },
   "outputs": [],
   "source": [
    "dim_product=df[['product_id','product_name','category']].drop_duplicates()\n",
    "date_dimension=df[['order_date','ship_date']].drop_duplicates()\n",
    "customer_dimesion=df[['customer_id','customer_name','first_name','last_name','segment','country','state','region','region_state','postal_code']].drop_duplicates()"
   ]
  },
  {
   "cell_type": "code",
   "execution_count": 0,
   "metadata": {
    "application/vnd.databricks.v1+cell": {
     "cellMetadata": {},
     "inputWidgets": {},
     "nuid": "156bb70e-a964-4a36-9248-00b57ab9f4ea",
     "showTitle": false,
     "tableResultSettingsMap": {},
     "title": ""
    }
   },
   "outputs": [],
   "source": [
    "### Aggregations"
   ]
  },
  {
   "cell_type": "code",
   "execution_count": 0,
   "metadata": {
    "application/vnd.databricks.v1+cell": {
     "cellMetadata": {
      "byteLimit": 2048000,
      "rowLimit": 10000
     },
     "inputWidgets": {},
     "nuid": "a78b9244-5a34-4b09-ab9e-f6b617c90927",
     "showTitle": false,
     "tableResultSettingsMap": {},
     "title": ""
    }
   },
   "outputs": [
    {
     "output_type": "execute_result",
     "data": {
      "text/html": [
       "<div>\n",
       "<style scoped>\n",
       "    .dataframe tbody tr th:only-of-type {\n",
       "        vertical-align: middle;\n",
       "    }\n",
       "\n",
       "    .dataframe tbody tr th {\n",
       "        vertical-align: top;\n",
       "    }\n",
       "\n",
       "    .dataframe thead th {\n",
       "        text-align: right;\n",
       "    }\n",
       "</style>\n",
       "<table border=\"1\" class=\"dataframe\">\n",
       "  <thead>\n",
       "    <tr style=\"text-align: right;\">\n",
       "      <th></th>\n",
       "      <th>category</th>\n",
       "      <th>sales</th>\n",
       "    </tr>\n",
       "  </thead>\n",
       "  <tbody>\n",
       "    <tr>\n",
       "      <th>0</th>\n",
       "      <td>Furniture</td>\n",
       "      <td>741999.73</td>\n",
       "    </tr>\n",
       "    <tr>\n",
       "      <th>1</th>\n",
       "      <td>Office Supplies</td>\n",
       "      <td>719046.90</td>\n",
       "    </tr>\n",
       "    <tr>\n",
       "      <th>2</th>\n",
       "      <td>Technology</td>\n",
       "      <td>836154.02</td>\n",
       "    </tr>\n",
       "  </tbody>\n",
       "</table>\n",
       "</div>"
      ],
      "text/plain": [
       "          category      sales\n",
       "0        Furniture  741999.73\n",
       "1  Office Supplies  719046.90\n",
       "2       Technology  836154.02"
      ]
     },
     "execution_count": 44,
     "metadata": {},
     "output_type": "execute_result"
    }
   ],
   "source": [
    "df.groupby(\"category\")['sales'].sum().reset_index()"
   ]
  },
  {
   "cell_type": "code",
   "execution_count": 0,
   "metadata": {
    "application/vnd.databricks.v1+cell": {
     "cellMetadata": {
      "byteLimit": 2048000,
      "rowLimit": 10000
     },
     "inputWidgets": {},
     "nuid": "5d633bb5-3930-414c-aaa4-7794102600c9",
     "showTitle": false,
     "tableResultSettingsMap": {},
     "title": ""
    }
   },
   "outputs": [
    {
     "output_type": "execute_result",
     "data": {
      "text/html": [
       "<div>\n",
       "<style scoped>\n",
       "    .dataframe tbody tr th:only-of-type {\n",
       "        vertical-align: middle;\n",
       "    }\n",
       "\n",
       "    .dataframe tbody tr th {\n",
       "        vertical-align: top;\n",
       "    }\n",
       "\n",
       "    .dataframe thead th {\n",
       "        text-align: right;\n",
       "    }\n",
       "</style>\n",
       "<table border=\"1\" class=\"dataframe\">\n",
       "  <thead>\n",
       "    <tr style=\"text-align: right;\">\n",
       "      <th></th>\n",
       "      <th>category</th>\n",
       "      <th>profit</th>\n",
       "    </tr>\n",
       "  </thead>\n",
       "  <tbody>\n",
       "    <tr>\n",
       "      <th>0</th>\n",
       "      <td>Furniture</td>\n",
       "      <td>18451.10</td>\n",
       "    </tr>\n",
       "    <tr>\n",
       "      <th>1</th>\n",
       "      <td>Office Supplies</td>\n",
       "      <td>122490.00</td>\n",
       "    </tr>\n",
       "    <tr>\n",
       "      <th>2</th>\n",
       "      <td>Technology</td>\n",
       "      <td>145455.44</td>\n",
       "    </tr>\n",
       "  </tbody>\n",
       "</table>\n",
       "</div>"
      ],
      "text/plain": [
       "          category     profit\n",
       "0        Furniture   18451.10\n",
       "1  Office Supplies  122490.00\n",
       "2       Technology  145455.44"
      ]
     },
     "execution_count": 45,
     "metadata": {},
     "output_type": "execute_result"
    }
   ],
   "source": [
    "df.groupby(\"category\")['profit'].sum().reset_index()"
   ]
  },
  {
   "cell_type": "code",
   "execution_count": 0,
   "metadata": {
    "application/vnd.databricks.v1+cell": {
     "cellMetadata": {
      "byteLimit": 2048000,
      "rowLimit": 10000
     },
     "inputWidgets": {},
     "nuid": "c7cc1a32-89d5-48b0-9e8d-dd475b8fd1a2",
     "showTitle": false,
     "tableResultSettingsMap": {},
     "title": ""
    }
   },
   "outputs": [
    {
     "output_type": "execute_result",
     "data": {
      "text/html": [
       "<div>\n",
       "<style scoped>\n",
       "    .dataframe tbody tr th:only-of-type {\n",
       "        vertical-align: middle;\n",
       "    }\n",
       "\n",
       "    .dataframe tbody tr th {\n",
       "        vertical-align: top;\n",
       "    }\n",
       "\n",
       "    .dataframe thead th {\n",
       "        text-align: right;\n",
       "    }\n",
       "</style>\n",
       "<table border=\"1\" class=\"dataframe\">\n",
       "  <thead>\n",
       "    <tr style=\"text-align: right;\">\n",
       "      <th></th>\n",
       "      <th>category</th>\n",
       "      <th>region</th>\n",
       "      <th>profit</th>\n",
       "    </tr>\n",
       "  </thead>\n",
       "  <tbody>\n",
       "    <tr>\n",
       "      <th>0</th>\n",
       "      <td>Furniture</td>\n",
       "      <td>Central</td>\n",
       "      <td>-2871.07</td>\n",
       "    </tr>\n",
       "    <tr>\n",
       "      <th>1</th>\n",
       "      <td>Furniture</td>\n",
       "      <td>East</td>\n",
       "      <td>3046.13</td>\n",
       "    </tr>\n",
       "    <tr>\n",
       "      <th>2</th>\n",
       "      <td>Furniture</td>\n",
       "      <td>South</td>\n",
       "      <td>6771.18</td>\n",
       "    </tr>\n",
       "    <tr>\n",
       "      <th>3</th>\n",
       "      <td>Furniture</td>\n",
       "      <td>West</td>\n",
       "      <td>11504.86</td>\n",
       "    </tr>\n",
       "    <tr>\n",
       "      <th>4</th>\n",
       "      <td>Office Supplies</td>\n",
       "      <td>Central</td>\n",
       "      <td>8879.76</td>\n",
       "    </tr>\n",
       "    <tr>\n",
       "      <th>5</th>\n",
       "      <td>Office Supplies</td>\n",
       "      <td>East</td>\n",
       "      <td>41014.33</td>\n",
       "    </tr>\n",
       "    <tr>\n",
       "      <th>6</th>\n",
       "      <td>Office Supplies</td>\n",
       "      <td>South</td>\n",
       "      <td>19986.37</td>\n",
       "    </tr>\n",
       "    <tr>\n",
       "      <th>7</th>\n",
       "      <td>Office Supplies</td>\n",
       "      <td>West</td>\n",
       "      <td>52609.54</td>\n",
       "    </tr>\n",
       "    <tr>\n",
       "      <th>8</th>\n",
       "      <td>Technology</td>\n",
       "      <td>Central</td>\n",
       "      <td>33697.55</td>\n",
       "    </tr>\n",
       "    <tr>\n",
       "      <th>9</th>\n",
       "      <td>Technology</td>\n",
       "      <td>East</td>\n",
       "      <td>47462.04</td>\n",
       "    </tr>\n",
       "    <tr>\n",
       "      <th>10</th>\n",
       "      <td>Technology</td>\n",
       "      <td>South</td>\n",
       "      <td>19991.94</td>\n",
       "    </tr>\n",
       "    <tr>\n",
       "      <th>11</th>\n",
       "      <td>Technology</td>\n",
       "      <td>West</td>\n",
       "      <td>44303.91</td>\n",
       "    </tr>\n",
       "  </tbody>\n",
       "</table>\n",
       "</div>"
      ],
      "text/plain": [
       "           category   region    profit\n",
       "0         Furniture  Central  -2871.07\n",
       "1         Furniture     East   3046.13\n",
       "2         Furniture    South   6771.18\n",
       "3         Furniture     West  11504.86\n",
       "4   Office Supplies  Central   8879.76\n",
       "5   Office Supplies     East  41014.33\n",
       "6   Office Supplies    South  19986.37\n",
       "7   Office Supplies     West  52609.54\n",
       "8        Technology  Central  33697.55\n",
       "9        Technology     East  47462.04\n",
       "10       Technology    South  19991.94\n",
       "11       Technology     West  44303.91"
      ]
     },
     "execution_count": 46,
     "metadata": {},
     "output_type": "execute_result"
    }
   ],
   "source": [
    "df.groupby([\"category\",\"region\"])['profit'].sum().reset_index()"
   ]
  },
  {
   "cell_type": "code",
   "execution_count": 0,
   "metadata": {
    "application/vnd.databricks.v1+cell": {
     "cellMetadata": {
      "byteLimit": 2048000,
      "rowLimit": 10000
     },
     "inputWidgets": {},
     "nuid": "dacef5b0-c228-4c64-bdb5-a9e66a7a0fa5",
     "showTitle": false,
     "tableResultSettingsMap": {},
     "title": ""
    }
   },
   "outputs": [
    {
     "output_type": "stream",
     "name": "stdout",
     "output_type": "stream",
     "text": [
      "✅ Table saved: facts_dimensions/fact_sales_2025-09-26.csv\n✅ Table saved: facts_dimensions/dim_customer_2025-09-26.csv\n✅ Table saved: facts_dimensions/dim_product_2025-09-26.csv\n✅ Table saved: facts_dimensions/dim_date_2025-09-26.csv\n✅ Table saved: facts_dimensions/dim_region_2025-09-26.csv\n✅ Aggregation saved: aggregations/sales_by_category_2025-09-26.csv\n✅ Aggregation saved: aggregations/profit_by_category_2025-09-26.csv\n⚠️ Skipped sales_by_subcategory, missing required columns\n✅ Aggregation saved: aggregations/avg_discount_by_category_2025-09-26.csv\n✅ Aggregation saved: aggregations/avg_margin_by_category_2025-09-26.csv\n✅ Aggregation saved: aggregations/sales_by_segment_2025-09-26.csv\n✅ Aggregation saved: aggregations/profit_by_segment_2025-09-26.csv\n✅ Aggregation saved: aggregations/sales_by_region_2025-09-26.csv\n✅ Aggregation saved: aggregations/profit_by_region_2025-09-26.csv\n✅ Aggregation saved: aggregations/sales_by_state_2025-09-26.csv\n✅ Aggregation saved: aggregations/top10_products_sales_2025-09-26.csv\n✅ Aggregation saved: aggregations/top10_products_profit_2025-09-26.csv\n✅ Aggregation saved: aggregations/monthly_sales_2025-09-26.csv\n✅ Aggregation saved: aggregations/monthly_profit_2025-09-26.csv\n✅ Aggregation saved: aggregations/yearly_sales_2025-09-26.csv\n✅ Aggregation saved: aggregations/sales_segment_region_2025-09-26.csv\n✅ Aggregation saved: aggregations/profit_category_region_2025-09-26.csv\n✅ Aggregation saved: aggregations/avg_shipping_days_region_2025-09-26.csv\n✅ Aggregation saved: aggregations/sales_per_customer_2025-09-26.csv\n✅ Aggregation saved: aggregations/profit_per_customer_2025-09-26.csv\n"
     ]
    }
   ],
   "source": [
    "from azure.storage.blob import BlobServiceClient\n",
    "import pandas as pd\n",
    "from io import BytesIO\n",
    "import datetime\n",
    "\n",
    "# \uD83D\uDD39 Azure connection\n",
    "connection_string = \"DefaultEndpointsProtocol=https;AccountName=insurancedataset2025;AccountKey=eIOZmD5913OT0f5DqbBQBKiu+ghZwqAPvt2s+7wYAcRZTdvjUcTGLyYODcYNxG9WL9pg1+tZB4ht+ASte4zRLg==;EndpointSuffix=core.windows.net\"\n",
    "blob_service_client = BlobServiceClient.from_connection_string(connection_string)\n",
    "\n",
    "# Containers\n",
    "silver_container = \"silver\"   # silver-transformed file stored in bronze\n",
    "gold_container = \"gold\"\n",
    "\n",
    "# File details\n",
    "today = datetime.datetime.now().strftime(\"%Y-%m-%d\")\n",
    "silver_file = f\"superstore_transformed_{today}.csv\"\n",
    "\n",
    "# --- Step 1: Read Silver File ---\n",
    "silver_blob_client = blob_service_client.get_blob_client(container=silver_container, blob=silver_file)\n",
    "download_stream = silver_blob_client.download_blob().readall()\n",
    "df = pd.read_csv(BytesIO(download_stream))\n",
    "\n",
    "# --- Step 2: Fact Table ---\n",
    "fact_sales_cols = [c for c in [\n",
    "    \"order_id\",\"product_id\",\"customer_id\",\"order_date\",\"order_year\",\"order_month\",\n",
    "    \"quantity\",\"sales\",\"discount\",\"profit\",\"profit_margin\",\"shipping_days\"\n",
    "] if c in df.columns]\n",
    "fact_sales = df[fact_sales_cols]\n",
    "\n",
    "# --- Step 3: Dimension Tables (Safe Selection) ---\n",
    "customer_cols = [c for c in [\"customer_id\",\"customer_name\",\"first_name\",\"last_name\",\"segment\",\"region\",\"state\",\"postal_code\"] if c in df.columns]\n",
    "dim_customer = df[customer_cols].drop_duplicates()\n",
    "\n",
    "product_cols = [c for c in [\"product_id\",\"product_name\",\"sub_category\",\"category\"] if c in df.columns]\n",
    "dim_product = df[product_cols].drop_duplicates()\n",
    "\n",
    "date_cols = [c for c in [\"order_date\",\"order_year\",\"order_month\",\"order_day\",\"order_month_name\"] if c in df.columns]\n",
    "dim_date = df[date_cols].drop_duplicates()\n",
    "if \"order_date\" in dim_date.columns:\n",
    "    dim_date[\"date_key\"] = pd.factorize(dim_date[\"order_date\"])[0] + 1\n",
    "\n",
    "region_cols = [c for c in [\"region\",\"state\",\"country\"] if c in df.columns]\n",
    "dim_region = df[region_cols].drop_duplicates()\n",
    "\n",
    "# --- Step 4: 20 Aggregations ---\n",
    "aggregations = {\n",
    "    \"sales_by_category\": df.groupby(\"category\")[\"sales\"].sum().reset_index() if \"category\" in df.columns else pd.DataFrame(),\n",
    "    \"profit_by_category\": df.groupby(\"category\")[\"profit\"].sum().reset_index() if \"category\" in df.columns else pd.DataFrame(),\n",
    "    \"sales_by_subcategory\": df.groupby(\"sub_category\")[\"sales\"].sum().reset_index() if \"sub_category\" in df.columns else pd.DataFrame(),\n",
    "    \"avg_discount_by_category\": df.groupby(\"category\")[\"discount\"].mean().reset_index() if \"category\" in df.columns else pd.DataFrame(),\n",
    "    \"avg_margin_by_category\": df.groupby(\"category\")[\"profit_margin\"].mean().reset_index() if \"category\" in df.columns else pd.DataFrame(),\n",
    "    \"sales_by_segment\": df.groupby(\"segment\")[\"sales\"].sum().reset_index() if \"segment\" in df.columns else pd.DataFrame(),\n",
    "    \"profit_by_segment\": df.groupby(\"segment\")[\"profit\"].sum().reset_index() if \"segment\" in df.columns else pd.DataFrame(),\n",
    "    \"sales_by_region\": df.groupby(\"region\")[\"sales\"].sum().reset_index() if \"region\" in df.columns else pd.DataFrame(),\n",
    "    \"profit_by_region\": df.groupby(\"region\")[\"profit\"].sum().reset_index() if \"region\" in df.columns else pd.DataFrame(),\n",
    "    \"sales_by_state\": df.groupby(\"state\")[\"sales\"].sum().reset_index() if \"state\" in df.columns else pd.DataFrame(),\n",
    "    \"top10_products_sales\": df.groupby(\"product_name\")[\"sales\"].sum().reset_index().nlargest(10, \"sales\") if \"product_name\" in df.columns else pd.DataFrame(),\n",
    "    \"top10_products_profit\": df.groupby(\"product_name\")[\"profit\"].sum().reset_index().nlargest(10, \"profit\") if \"product_name\" in df.columns else pd.DataFrame(),\n",
    "    \"monthly_sales\": df.groupby([\"order_year\",\"order_month\"])[\"sales\"].sum().reset_index() if {\"order_year\",\"order_month\"}.issubset(df.columns) else pd.DataFrame(),\n",
    "    \"monthly_profit\": df.groupby([\"order_year\",\"order_month\"])[\"profit\"].sum().reset_index() if {\"order_year\",\"order_month\"}.issubset(df.columns) else pd.DataFrame(),\n",
    "    \"yearly_sales\": df.groupby(\"order_year\")[\"sales\"].sum().reset_index() if \"order_year\" in df.columns else pd.DataFrame(),\n",
    "    \"sales_segment_region\": df.groupby([\"segment\",\"region\"])[\"sales\"].sum().reset_index() if {\"segment\",\"region\"}.issubset(df.columns) else pd.DataFrame(),\n",
    "    \"profit_category_region\": df.groupby([\"category\",\"region\"])[\"profit\"].sum().reset_index() if {\"category\",\"region\"}.issubset(df.columns) else pd.DataFrame(),\n",
    "    \"avg_shipping_days_region\": df.groupby(\"region\")[\"shipping_days\"].mean().reset_index() if {\"region\",\"shipping_days\"}.issubset(df.columns) else pd.DataFrame(),\n",
    "    \"sales_per_customer\": df.groupby(\"customer_id\")[\"sales\"].sum().reset_index() if \"customer_id\" in df.columns else pd.DataFrame(),\n",
    "    \"profit_per_customer\": df.groupby(\"customer_id\")[\"profit\"].sum().reset_index() if \"customer_id\" in df.columns else pd.DataFrame()\n",
    "}\n",
    "\n",
    "# --- Step 5: Upload Fact & Dimension Tables to Gold ---\n",
    "tables = {\n",
    "    \"fact_sales\": fact_sales,\n",
    "    \"dim_customer\": dim_customer,\n",
    "    \"dim_product\": dim_product,\n",
    "    \"dim_date\": dim_date,\n",
    "    \"dim_region\": dim_region\n",
    "}\n",
    "\n",
    "for name, tdf in tables.items():\n",
    "    if not tdf.empty:\n",
    "        csv_buffer = BytesIO()\n",
    "        tdf.to_csv(csv_buffer, index=False)\n",
    "        csv_buffer.seek(0)\n",
    "        blob_name = f\"facts_dimensions/{name}_{today}.csv\"\n",
    "        gold_blob_client = blob_service_client.get_blob_client(container=gold_container, blob=blob_name)\n",
    "        gold_blob_client.upload_blob(csv_buffer, overwrite=True)\n",
    "        print(f\"✅ Table saved: {blob_name}\")\n",
    "    else:\n",
    "        print(f\"⚠️ Skipped {name}, no columns found\")\n",
    "\n",
    "# --- Step 6: Upload Aggregations to Gold ---\n",
    "for name, agg_df in aggregations.items():\n",
    "    if not agg_df.empty:\n",
    "        csv_buffer = BytesIO()\n",
    "        agg_df.to_csv(csv_buffer, index=False)\n",
    "        csv_buffer.seek(0)\n",
    "        blob_name = f\"aggregations/{name}_{today}.csv\"\n",
    "        gold_blob_client = blob_service_client.get_blob_client(container=gold_container, blob=blob_name)\n",
    "        gold_blob_client.upload_blob(csv_buffer, overwrite=True)\n",
    "        print(f\"✅ Aggregation saved: {blob_name}\")\n",
    "    else:\n",
    "        print(f\"⚠️ Skipped {name}, missing required columns\")\n"
   ]
  }
 ],
 "metadata": {
  "application/vnd.databricks.v1+notebook": {
   "computePreferences": null,
   "dashboards": [],
   "environmentMetadata": {
    "base_environment": "",
    "environment_version": "3"
   },
   "inputWidgetPreferences": null,
   "language": "python",
   "notebookMetadata": {
    "pythonIndentUnit": 4
   },
   "notebookName": "Med Arch",
   "widgets": {}
  },
  "language_info": {
   "name": "python"
  }
 },
 "nbformat": 4,
 "nbformat_minor": 0
}